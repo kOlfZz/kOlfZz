{
  "nbformat": 4,
  "nbformat_minor": 0,
  "metadata": {
    "colab": {
      "provenance": [],
      "include_colab_link": true
    },
    "kernelspec": {
      "name": "python3",
      "display_name": "Python 3"
    },
    "language_info": {
      "name": "python"
    }
  },
  "cells": [
    {
      "cell_type": "markdown",
      "metadata": {
        "id": "view-in-github",
        "colab_type": "text"
      },
      "source": [
        "<a href=\"https://colab.research.google.com/github/kOlfZz/kOlfZz/blob/main/Profissao_Cientista_de_Dados_M13_Projeto.ipynb\" target=\"_parent\"><img src=\"https://colab.research.google.com/assets/colab-badge.svg\" alt=\"Open In Colab\"/></a>"
      ]
    },
    {
      "cell_type": "markdown",
      "source": [
        "# **MÓDULO 13**\n",
        "# Projeto - Fundamentos da Descoberta de Dados"
      ],
      "metadata": {
        "id": "VOTu7U3Mvxzq"
      }
    },
    {
      "cell_type": "markdown",
      "source": [
        "Nesse projeto trabalharemos com a base de dados de produtos de um supermercado do Chile.\n",
        "A ideia é que vocês apliquem os conceitos estatísticos vistos no último módulo, mais os conceitos de visualizações de dados através de gráficos e finalizem publicando no seu github!"
      ],
      "metadata": {
        "id": "-HYgkdAywLd0"
      }
    },
    {
      "cell_type": "code",
      "source": [
        "import pandas as pd\n",
        "import matplotlib.pyplot as plt\n",
        "import plotly.express as px"
      ],
      "metadata": {
        "id": "OTdTnbzUwE2X"
      },
      "execution_count": 65,
      "outputs": []
    },
    {
      "cell_type": "markdown",
      "source": [
        "Faça a leitura dos dados do arquivo CSV:\n",
        "\n",
        "\n",
        "Altere o código abaixo de acordo com seu diretório."
      ],
      "metadata": {
        "id": "ky1Dk_KWywEa"
      }
    },
    {
      "cell_type": "code",
      "source": [
        "df = pd.read_csv(\"/content/MODULO7_PROJETOFINAL_BASE_SUPERMERCADO - MODULO7_PROJETOFINAL_BASE_SUPERMERCADO (1).csv.csv\")\n",
        "\n",
        "df.head(10)"
      ],
      "metadata": {
        "colab": {
          "base_uri": "https://localhost:8080/",
          "height": 362
        },
        "id": "bRBFyVB5wlny",
        "outputId": "8799b0c0-6128-43e5-feb2-21118e10da21"
      },
      "execution_count": 66,
      "outputs": [
        {
          "output_type": "execute_result",
          "data": {
            "text/plain": [
              "                                              title       Marca  Preco_Normal  \\\n",
              "0              Pack 12 un, Leche extra proteína 1 L  Loncoleche         19788   \n",
              "1   Pack 12 un, Leche chocolate receta original 1 L     Soprole         18228   \n",
              "2    Pack 12 un, Leche semidescremada chocolate 1 L     Soprole         18228   \n",
              "3     Pack 12 un, Leche semidescremada frutilla 1 L     Soprole         18228   \n",
              "4       Pack 12 un, Leche sin lactosa chocolate 1 L  Loncoleche         17988   \n",
              "5        Pack 12 un, Leche sin lactosa frutilla 1 L  Loncoleche         17988   \n",
              "6  Pack 12 un, Leche saborizada light chocolate 1 L  Loncoleche         17988   \n",
              "7         Pack 12 un, Leche saborizada frutilla 1 L       Colun         17388   \n",
              "8         Pack 12 un, Leche saborizada vainilla 1 L       Colun         17388   \n",
              "9           Pack 12 un, Leche saborizada manjar 1 L       Colun         17388   \n",
              "\n",
              "   Preco_Desconto  Preco_Anterior  Desconto Categoria  \n",
              "0               0               0         0   lacteos  \n",
              "1               0               0         0   lacteos  \n",
              "2               0               0         0   lacteos  \n",
              "3               0               0         0   lacteos  \n",
              "4               0               0         0   lacteos  \n",
              "5               0               0         0   lacteos  \n",
              "6               0               0         0   lacteos  \n",
              "7               0               0         0   lacteos  \n",
              "8               0               0         0   lacteos  \n",
              "9               0               0         0   lacteos  "
            ],
            "text/html": [
              "\n",
              "  <div id=\"df-6afbf432-054f-4191-9a6a-0adf97d2c8e3\" class=\"colab-df-container\">\n",
              "    <div>\n",
              "<style scoped>\n",
              "    .dataframe tbody tr th:only-of-type {\n",
              "        vertical-align: middle;\n",
              "    }\n",
              "\n",
              "    .dataframe tbody tr th {\n",
              "        vertical-align: top;\n",
              "    }\n",
              "\n",
              "    .dataframe thead th {\n",
              "        text-align: right;\n",
              "    }\n",
              "</style>\n",
              "<table border=\"1\" class=\"dataframe\">\n",
              "  <thead>\n",
              "    <tr style=\"text-align: right;\">\n",
              "      <th></th>\n",
              "      <th>title</th>\n",
              "      <th>Marca</th>\n",
              "      <th>Preco_Normal</th>\n",
              "      <th>Preco_Desconto</th>\n",
              "      <th>Preco_Anterior</th>\n",
              "      <th>Desconto</th>\n",
              "      <th>Categoria</th>\n",
              "    </tr>\n",
              "  </thead>\n",
              "  <tbody>\n",
              "    <tr>\n",
              "      <th>0</th>\n",
              "      <td>Pack 12 un, Leche extra proteína 1 L</td>\n",
              "      <td>Loncoleche</td>\n",
              "      <td>19788</td>\n",
              "      <td>0</td>\n",
              "      <td>0</td>\n",
              "      <td>0</td>\n",
              "      <td>lacteos</td>\n",
              "    </tr>\n",
              "    <tr>\n",
              "      <th>1</th>\n",
              "      <td>Pack 12 un, Leche chocolate receta original 1 L</td>\n",
              "      <td>Soprole</td>\n",
              "      <td>18228</td>\n",
              "      <td>0</td>\n",
              "      <td>0</td>\n",
              "      <td>0</td>\n",
              "      <td>lacteos</td>\n",
              "    </tr>\n",
              "    <tr>\n",
              "      <th>2</th>\n",
              "      <td>Pack 12 un, Leche semidescremada chocolate 1 L</td>\n",
              "      <td>Soprole</td>\n",
              "      <td>18228</td>\n",
              "      <td>0</td>\n",
              "      <td>0</td>\n",
              "      <td>0</td>\n",
              "      <td>lacteos</td>\n",
              "    </tr>\n",
              "    <tr>\n",
              "      <th>3</th>\n",
              "      <td>Pack 12 un, Leche semidescremada frutilla 1 L</td>\n",
              "      <td>Soprole</td>\n",
              "      <td>18228</td>\n",
              "      <td>0</td>\n",
              "      <td>0</td>\n",
              "      <td>0</td>\n",
              "      <td>lacteos</td>\n",
              "    </tr>\n",
              "    <tr>\n",
              "      <th>4</th>\n",
              "      <td>Pack 12 un, Leche sin lactosa chocolate 1 L</td>\n",
              "      <td>Loncoleche</td>\n",
              "      <td>17988</td>\n",
              "      <td>0</td>\n",
              "      <td>0</td>\n",
              "      <td>0</td>\n",
              "      <td>lacteos</td>\n",
              "    </tr>\n",
              "    <tr>\n",
              "      <th>5</th>\n",
              "      <td>Pack 12 un, Leche sin lactosa frutilla 1 L</td>\n",
              "      <td>Loncoleche</td>\n",
              "      <td>17988</td>\n",
              "      <td>0</td>\n",
              "      <td>0</td>\n",
              "      <td>0</td>\n",
              "      <td>lacteos</td>\n",
              "    </tr>\n",
              "    <tr>\n",
              "      <th>6</th>\n",
              "      <td>Pack 12 un, Leche saborizada light chocolate 1 L</td>\n",
              "      <td>Loncoleche</td>\n",
              "      <td>17988</td>\n",
              "      <td>0</td>\n",
              "      <td>0</td>\n",
              "      <td>0</td>\n",
              "      <td>lacteos</td>\n",
              "    </tr>\n",
              "    <tr>\n",
              "      <th>7</th>\n",
              "      <td>Pack 12 un, Leche saborizada frutilla 1 L</td>\n",
              "      <td>Colun</td>\n",
              "      <td>17388</td>\n",
              "      <td>0</td>\n",
              "      <td>0</td>\n",
              "      <td>0</td>\n",
              "      <td>lacteos</td>\n",
              "    </tr>\n",
              "    <tr>\n",
              "      <th>8</th>\n",
              "      <td>Pack 12 un, Leche saborizada vainilla 1 L</td>\n",
              "      <td>Colun</td>\n",
              "      <td>17388</td>\n",
              "      <td>0</td>\n",
              "      <td>0</td>\n",
              "      <td>0</td>\n",
              "      <td>lacteos</td>\n",
              "    </tr>\n",
              "    <tr>\n",
              "      <th>9</th>\n",
              "      <td>Pack 12 un, Leche saborizada manjar 1 L</td>\n",
              "      <td>Colun</td>\n",
              "      <td>17388</td>\n",
              "      <td>0</td>\n",
              "      <td>0</td>\n",
              "      <td>0</td>\n",
              "      <td>lacteos</td>\n",
              "    </tr>\n",
              "  </tbody>\n",
              "</table>\n",
              "</div>\n",
              "    <div class=\"colab-df-buttons\">\n",
              "\n",
              "  <div class=\"colab-df-container\">\n",
              "    <button class=\"colab-df-convert\" onclick=\"convertToInteractive('df-6afbf432-054f-4191-9a6a-0adf97d2c8e3')\"\n",
              "            title=\"Convert this dataframe to an interactive table.\"\n",
              "            style=\"display:none;\">\n",
              "\n",
              "  <svg xmlns=\"http://www.w3.org/2000/svg\" height=\"24px\" viewBox=\"0 -960 960 960\">\n",
              "    <path d=\"M120-120v-720h720v720H120Zm60-500h600v-160H180v160Zm220 220h160v-160H400v160Zm0 220h160v-160H400v160ZM180-400h160v-160H180v160Zm440 0h160v-160H620v160ZM180-180h160v-160H180v160Zm440 0h160v-160H620v160Z\"/>\n",
              "  </svg>\n",
              "    </button>\n",
              "\n",
              "  <style>\n",
              "    .colab-df-container {\n",
              "      display:flex;\n",
              "      gap: 12px;\n",
              "    }\n",
              "\n",
              "    .colab-df-convert {\n",
              "      background-color: #E8F0FE;\n",
              "      border: none;\n",
              "      border-radius: 50%;\n",
              "      cursor: pointer;\n",
              "      display: none;\n",
              "      fill: #1967D2;\n",
              "      height: 32px;\n",
              "      padding: 0 0 0 0;\n",
              "      width: 32px;\n",
              "    }\n",
              "\n",
              "    .colab-df-convert:hover {\n",
              "      background-color: #E2EBFA;\n",
              "      box-shadow: 0px 1px 2px rgba(60, 64, 67, 0.3), 0px 1px 3px 1px rgba(60, 64, 67, 0.15);\n",
              "      fill: #174EA6;\n",
              "    }\n",
              "\n",
              "    .colab-df-buttons div {\n",
              "      margin-bottom: 4px;\n",
              "    }\n",
              "\n",
              "    [theme=dark] .colab-df-convert {\n",
              "      background-color: #3B4455;\n",
              "      fill: #D2E3FC;\n",
              "    }\n",
              "\n",
              "    [theme=dark] .colab-df-convert:hover {\n",
              "      background-color: #434B5C;\n",
              "      box-shadow: 0px 1px 3px 1px rgba(0, 0, 0, 0.15);\n",
              "      filter: drop-shadow(0px 1px 2px rgba(0, 0, 0, 0.3));\n",
              "      fill: #FFFFFF;\n",
              "    }\n",
              "  </style>\n",
              "\n",
              "    <script>\n",
              "      const buttonEl =\n",
              "        document.querySelector('#df-6afbf432-054f-4191-9a6a-0adf97d2c8e3 button.colab-df-convert');\n",
              "      buttonEl.style.display =\n",
              "        google.colab.kernel.accessAllowed ? 'block' : 'none';\n",
              "\n",
              "      async function convertToInteractive(key) {\n",
              "        const element = document.querySelector('#df-6afbf432-054f-4191-9a6a-0adf97d2c8e3');\n",
              "        const dataTable =\n",
              "          await google.colab.kernel.invokeFunction('convertToInteractive',\n",
              "                                                    [key], {});\n",
              "        if (!dataTable) return;\n",
              "\n",
              "        const docLinkHtml = 'Like what you see? Visit the ' +\n",
              "          '<a target=\"_blank\" href=https://colab.research.google.com/notebooks/data_table.ipynb>data table notebook</a>'\n",
              "          + ' to learn more about interactive tables.';\n",
              "        element.innerHTML = '';\n",
              "        dataTable['output_type'] = 'display_data';\n",
              "        await google.colab.output.renderOutput(dataTable, element);\n",
              "        const docLink = document.createElement('div');\n",
              "        docLink.innerHTML = docLinkHtml;\n",
              "        element.appendChild(docLink);\n",
              "      }\n",
              "    </script>\n",
              "  </div>\n",
              "\n",
              "\n",
              "<div id=\"df-bec5b50d-ae8f-466e-8956-7927a36f7fdd\">\n",
              "  <button class=\"colab-df-quickchart\" onclick=\"quickchart('df-bec5b50d-ae8f-466e-8956-7927a36f7fdd')\"\n",
              "            title=\"Suggest charts\"\n",
              "            style=\"display:none;\">\n",
              "\n",
              "<svg xmlns=\"http://www.w3.org/2000/svg\" height=\"24px\"viewBox=\"0 0 24 24\"\n",
              "     width=\"24px\">\n",
              "    <g>\n",
              "        <path d=\"M19 3H5c-1.1 0-2 .9-2 2v14c0 1.1.9 2 2 2h14c1.1 0 2-.9 2-2V5c0-1.1-.9-2-2-2zM9 17H7v-7h2v7zm4 0h-2V7h2v10zm4 0h-2v-4h2v4z\"/>\n",
              "    </g>\n",
              "</svg>\n",
              "  </button>\n",
              "\n",
              "<style>\n",
              "  .colab-df-quickchart {\n",
              "      --bg-color: #E8F0FE;\n",
              "      --fill-color: #1967D2;\n",
              "      --hover-bg-color: #E2EBFA;\n",
              "      --hover-fill-color: #174EA6;\n",
              "      --disabled-fill-color: #AAA;\n",
              "      --disabled-bg-color: #DDD;\n",
              "  }\n",
              "\n",
              "  [theme=dark] .colab-df-quickchart {\n",
              "      --bg-color: #3B4455;\n",
              "      --fill-color: #D2E3FC;\n",
              "      --hover-bg-color: #434B5C;\n",
              "      --hover-fill-color: #FFFFFF;\n",
              "      --disabled-bg-color: #3B4455;\n",
              "      --disabled-fill-color: #666;\n",
              "  }\n",
              "\n",
              "  .colab-df-quickchart {\n",
              "    background-color: var(--bg-color);\n",
              "    border: none;\n",
              "    border-radius: 50%;\n",
              "    cursor: pointer;\n",
              "    display: none;\n",
              "    fill: var(--fill-color);\n",
              "    height: 32px;\n",
              "    padding: 0;\n",
              "    width: 32px;\n",
              "  }\n",
              "\n",
              "  .colab-df-quickchart:hover {\n",
              "    background-color: var(--hover-bg-color);\n",
              "    box-shadow: 0 1px 2px rgba(60, 64, 67, 0.3), 0 1px 3px 1px rgba(60, 64, 67, 0.15);\n",
              "    fill: var(--button-hover-fill-color);\n",
              "  }\n",
              "\n",
              "  .colab-df-quickchart-complete:disabled,\n",
              "  .colab-df-quickchart-complete:disabled:hover {\n",
              "    background-color: var(--disabled-bg-color);\n",
              "    fill: var(--disabled-fill-color);\n",
              "    box-shadow: none;\n",
              "  }\n",
              "\n",
              "  .colab-df-spinner {\n",
              "    border: 2px solid var(--fill-color);\n",
              "    border-color: transparent;\n",
              "    border-bottom-color: var(--fill-color);\n",
              "    animation:\n",
              "      spin 1s steps(1) infinite;\n",
              "  }\n",
              "\n",
              "  @keyframes spin {\n",
              "    0% {\n",
              "      border-color: transparent;\n",
              "      border-bottom-color: var(--fill-color);\n",
              "      border-left-color: var(--fill-color);\n",
              "    }\n",
              "    20% {\n",
              "      border-color: transparent;\n",
              "      border-left-color: var(--fill-color);\n",
              "      border-top-color: var(--fill-color);\n",
              "    }\n",
              "    30% {\n",
              "      border-color: transparent;\n",
              "      border-left-color: var(--fill-color);\n",
              "      border-top-color: var(--fill-color);\n",
              "      border-right-color: var(--fill-color);\n",
              "    }\n",
              "    40% {\n",
              "      border-color: transparent;\n",
              "      border-right-color: var(--fill-color);\n",
              "      border-top-color: var(--fill-color);\n",
              "    }\n",
              "    60% {\n",
              "      border-color: transparent;\n",
              "      border-right-color: var(--fill-color);\n",
              "    }\n",
              "    80% {\n",
              "      border-color: transparent;\n",
              "      border-right-color: var(--fill-color);\n",
              "      border-bottom-color: var(--fill-color);\n",
              "    }\n",
              "    90% {\n",
              "      border-color: transparent;\n",
              "      border-bottom-color: var(--fill-color);\n",
              "    }\n",
              "  }\n",
              "</style>\n",
              "\n",
              "  <script>\n",
              "    async function quickchart(key) {\n",
              "      const quickchartButtonEl =\n",
              "        document.querySelector('#' + key + ' button');\n",
              "      quickchartButtonEl.disabled = true;  // To prevent multiple clicks.\n",
              "      quickchartButtonEl.classList.add('colab-df-spinner');\n",
              "      try {\n",
              "        const charts = await google.colab.kernel.invokeFunction(\n",
              "            'suggestCharts', [key], {});\n",
              "      } catch (error) {\n",
              "        console.error('Error during call to suggestCharts:', error);\n",
              "      }\n",
              "      quickchartButtonEl.classList.remove('colab-df-spinner');\n",
              "      quickchartButtonEl.classList.add('colab-df-quickchart-complete');\n",
              "    }\n",
              "    (() => {\n",
              "      let quickchartButtonEl =\n",
              "        document.querySelector('#df-bec5b50d-ae8f-466e-8956-7927a36f7fdd button');\n",
              "      quickchartButtonEl.style.display =\n",
              "        google.colab.kernel.accessAllowed ? 'block' : 'none';\n",
              "    })();\n",
              "  </script>\n",
              "</div>\n",
              "\n",
              "    </div>\n",
              "  </div>\n"
            ],
            "application/vnd.google.colaboratory.intrinsic+json": {
              "type": "dataframe",
              "variable_name": "df",
              "summary": "{\n  \"name\": \"df\",\n  \"rows\": 1107,\n  \"fields\": [\n    {\n      \"column\": \"title\",\n      \"properties\": {\n        \"dtype\": \"string\",\n        \"num_unique_values\": 1065,\n        \"samples\": [\n          \"Pack 12 un, Leche entera 1 L\",\n          \"Yoghurt batido Colun damasco 1 kg\",\n          \"Leche Loncoleche cappucino prote\\u00edna 1 L\"\n        ],\n        \"semantic_type\": \"\",\n        \"description\": \"\"\n      }\n    },\n    {\n      \"column\": \"Marca\",\n      \"properties\": {\n        \"dtype\": \"category\",\n        \"num_unique_values\": 156,\n        \"samples\": [\n          \"Calan\",\n          \"Chiquit\\u00edn\",\n          \"Protex\"\n        ],\n        \"semantic_type\": \"\",\n        \"description\": \"\"\n      }\n    },\n    {\n      \"column\": \"Preco_Normal\",\n      \"properties\": {\n        \"dtype\": \"number\",\n        \"std\": 2961,\n        \"min\": 0,\n        \"max\": 19788,\n        \"num_unique_values\": 361,\n        \"samples\": [\n          2499,\n          6790,\n          10599\n        ],\n        \"semantic_type\": \"\",\n        \"description\": \"\"\n      }\n    },\n    {\n      \"column\": \"Preco_Desconto\",\n      \"properties\": {\n        \"dtype\": \"number\",\n        \"std\": 1339,\n        \"min\": 0,\n        \"max\": 14550,\n        \"num_unique_values\": 101,\n        \"samples\": [\n          3732,\n          4790,\n          1250\n        ],\n        \"semantic_type\": \"\",\n        \"description\": \"\"\n      }\n    },\n    {\n      \"column\": \"Preco_Anterior\",\n      \"properties\": {\n        \"dtype\": \"number\",\n        \"std\": 1239,\n        \"min\": 0,\n        \"max\": 18899,\n        \"num_unique_values\": 64,\n        \"samples\": [\n          5549,\n          5499,\n          0\n        ],\n        \"semantic_type\": \"\",\n        \"description\": \"\"\n      }\n    },\n    {\n      \"column\": \"Desconto\",\n      \"properties\": {\n        \"dtype\": \"number\",\n        \"std\": 241,\n        \"min\": 0,\n        \"max\": 4349,\n        \"num_unique_values\": 68,\n        \"samples\": [\n          693,\n          359,\n          140\n        ],\n        \"semantic_type\": \"\",\n        \"description\": \"\"\n      }\n    },\n    {\n      \"column\": \"Categoria\",\n      \"properties\": {\n        \"dtype\": \"category\",\n        \"num_unique_values\": 7,\n        \"samples\": [\n          \"lacteos\",\n          \"belleza-y-cuidado-personal\",\n          \"verduras\"\n        ],\n        \"semantic_type\": \"\",\n        \"description\": \"\"\n      }\n    }\n  ]\n}"
            }
          },
          "metadata": {},
          "execution_count": 66
        }
      ]
    },
    {
      "cell_type": "code",
      "source": [
        "df.info()"
      ],
      "metadata": {
        "colab": {
          "base_uri": "https://localhost:8080/"
        },
        "id": "CWvDUIoyocZs",
        "outputId": "b326d9ec-70e7-4500-ec5f-f8f77cd7a8e2"
      },
      "execution_count": 67,
      "outputs": [
        {
          "output_type": "stream",
          "name": "stdout",
          "text": [
            "<class 'pandas.core.frame.DataFrame'>\n",
            "RangeIndex: 1107 entries, 0 to 1106\n",
            "Data columns (total 7 columns):\n",
            " #   Column          Non-Null Count  Dtype \n",
            "---  ------          --------------  ----- \n",
            " 0   title           1107 non-null   object\n",
            " 1   Marca           1107 non-null   object\n",
            " 2   Preco_Normal    1107 non-null   int64 \n",
            " 3   Preco_Desconto  1107 non-null   int64 \n",
            " 4   Preco_Anterior  1107 non-null   int64 \n",
            " 5   Desconto        1107 non-null   int64 \n",
            " 6   Categoria       1107 non-null   object\n",
            "dtypes: int64(4), object(3)\n",
            "memory usage: 60.7+ KB\n"
          ]
        }
      ]
    },
    {
      "cell_type": "markdown",
      "source": [
        "Os campos do nosso dataframe são:\n",
        "\n",
        "**Title:** Nome do produto.\n",
        "\n",
        "\n",
        "**Marca:** A marca do produto.\n",
        "\n",
        "\n",
        "**Preco_Normal:** O preço em que o produto costuma ser vendido quando não há desconto.\n",
        "\n",
        "\n",
        "**Preco_Desconto:** O preço vendido após o desconto ser aplicado.\n",
        "\n",
        "\n",
        "**Preco_Anterior:** Preço em que era comercializado o produto antes do desconto aplicado.\n",
        "\n",
        "\n",
        "**Desconto:** Total de desconto aplicado.\n",
        "\n",
        "\n",
        "\n",
        "\n",
        "\n",
        "\n",
        "As colunas que aparecem com valores 0 são para os produtos onde não tivemos descontos aplicados.\n",
        "\n",
        "\n",
        "As categorias estão em espanhol!"
      ],
      "metadata": {
        "id": "YJgKJ7Nxwtw2"
      }
    },
    {
      "cell_type": "markdown",
      "source": [
        "# 1 - Traga a média e a mediana dos preços - coluna Preco_Normal - por categoria de produto.\n",
        "# Identifique as categorias que parecem ter um valor de média abaixo ou acima da mediana."
      ],
      "metadata": {
        "id": "4u6WBeyyy6ri"
      }
    },
    {
      "cell_type": "code",
      "source": [
        "#Seu código aqui para a média\n",
        "media_por_categoria = df.groupby('Categoria')['Preco_Normal'].mean()\n",
        "media_por_categoria"
      ],
      "metadata": {
        "id": "E7B7FolOzVcJ",
        "colab": {
          "base_uri": "https://localhost:8080/",
          "height": 335
        },
        "outputId": "8585092c-7bda-4f09-cb39-70df5f064f86"
      },
      "execution_count": 68,
      "outputs": [
        {
          "output_type": "execute_result",
          "data": {
            "text/plain": [
              "Categoria\n",
              "belleza-y-cuidado-personal    1783.556485\n",
              "comidas-preparadas            3095.043478\n",
              "congelados                    2108.042553\n",
              "frutas                        1724.473684\n",
              "instantaneos-y-sopas           765.491228\n",
              "lacteos                       2385.219239\n",
              "verduras                      1343.296875\n",
              "Name: Preco_Normal, dtype: float64"
            ],
            "text/html": [
              "<div>\n",
              "<style scoped>\n",
              "    .dataframe tbody tr th:only-of-type {\n",
              "        vertical-align: middle;\n",
              "    }\n",
              "\n",
              "    .dataframe tbody tr th {\n",
              "        vertical-align: top;\n",
              "    }\n",
              "\n",
              "    .dataframe thead th {\n",
              "        text-align: right;\n",
              "    }\n",
              "</style>\n",
              "<table border=\"1\" class=\"dataframe\">\n",
              "  <thead>\n",
              "    <tr style=\"text-align: right;\">\n",
              "      <th></th>\n",
              "      <th>Preco_Normal</th>\n",
              "    </tr>\n",
              "    <tr>\n",
              "      <th>Categoria</th>\n",
              "      <th></th>\n",
              "    </tr>\n",
              "  </thead>\n",
              "  <tbody>\n",
              "    <tr>\n",
              "      <th>belleza-y-cuidado-personal</th>\n",
              "      <td>1783.556485</td>\n",
              "    </tr>\n",
              "    <tr>\n",
              "      <th>comidas-preparadas</th>\n",
              "      <td>3095.043478</td>\n",
              "    </tr>\n",
              "    <tr>\n",
              "      <th>congelados</th>\n",
              "      <td>2108.042553</td>\n",
              "    </tr>\n",
              "    <tr>\n",
              "      <th>frutas</th>\n",
              "      <td>1724.473684</td>\n",
              "    </tr>\n",
              "    <tr>\n",
              "      <th>instantaneos-y-sopas</th>\n",
              "      <td>765.491228</td>\n",
              "    </tr>\n",
              "    <tr>\n",
              "      <th>lacteos</th>\n",
              "      <td>2385.219239</td>\n",
              "    </tr>\n",
              "    <tr>\n",
              "      <th>verduras</th>\n",
              "      <td>1343.296875</td>\n",
              "    </tr>\n",
              "  </tbody>\n",
              "</table>\n",
              "</div><br><label><b>dtype:</b> float64</label>"
            ]
          },
          "metadata": {},
          "execution_count": 68
        }
      ]
    },
    {
      "cell_type": "code",
      "source": [
        "#Seu código aqui para a mediana\n",
        "mediana_por_categoria = df.groupby('Categoria')['Preco_Normal'].median()\n",
        "mediana_por_categoria"
      ],
      "metadata": {
        "id": "Rwf4V3hnzZwh",
        "colab": {
          "base_uri": "https://localhost:8080/",
          "height": 335
        },
        "outputId": "520c0036-e3ef-45fb-d66f-0a306f7cd34a"
      },
      "execution_count": 69,
      "outputs": [
        {
          "output_type": "execute_result",
          "data": {
            "text/plain": [
              "Categoria\n",
              "belleza-y-cuidado-personal    1569.0\n",
              "comidas-preparadas            3290.0\n",
              "congelados                    1519.0\n",
              "frutas                        1195.0\n",
              "instantaneos-y-sopas           439.0\n",
              "lacteos                        989.0\n",
              "verduras                      1180.0\n",
              "Name: Preco_Normal, dtype: float64"
            ],
            "text/html": [
              "<div>\n",
              "<style scoped>\n",
              "    .dataframe tbody tr th:only-of-type {\n",
              "        vertical-align: middle;\n",
              "    }\n",
              "\n",
              "    .dataframe tbody tr th {\n",
              "        vertical-align: top;\n",
              "    }\n",
              "\n",
              "    .dataframe thead th {\n",
              "        text-align: right;\n",
              "    }\n",
              "</style>\n",
              "<table border=\"1\" class=\"dataframe\">\n",
              "  <thead>\n",
              "    <tr style=\"text-align: right;\">\n",
              "      <th></th>\n",
              "      <th>Preco_Normal</th>\n",
              "    </tr>\n",
              "    <tr>\n",
              "      <th>Categoria</th>\n",
              "      <th></th>\n",
              "    </tr>\n",
              "  </thead>\n",
              "  <tbody>\n",
              "    <tr>\n",
              "      <th>belleza-y-cuidado-personal</th>\n",
              "      <td>1569.0</td>\n",
              "    </tr>\n",
              "    <tr>\n",
              "      <th>comidas-preparadas</th>\n",
              "      <td>3290.0</td>\n",
              "    </tr>\n",
              "    <tr>\n",
              "      <th>congelados</th>\n",
              "      <td>1519.0</td>\n",
              "    </tr>\n",
              "    <tr>\n",
              "      <th>frutas</th>\n",
              "      <td>1195.0</td>\n",
              "    </tr>\n",
              "    <tr>\n",
              "      <th>instantaneos-y-sopas</th>\n",
              "      <td>439.0</td>\n",
              "    </tr>\n",
              "    <tr>\n",
              "      <th>lacteos</th>\n",
              "      <td>989.0</td>\n",
              "    </tr>\n",
              "    <tr>\n",
              "      <th>verduras</th>\n",
              "      <td>1180.0</td>\n",
              "    </tr>\n",
              "  </tbody>\n",
              "</table>\n",
              "</div><br><label><b>dtype:</b> float64</label>"
            ]
          },
          "metadata": {},
          "execution_count": 69
        }
      ]
    },
    {
      "cell_type": "markdown",
      "source": [
        "Digite aqui as categorias:\n",
        "\n",
        "- Média abaixo da Mediana\n",
        "[comidas-preparadas, frutas]\n",
        "\n",
        "- Média acima da Mediana\n",
        "[belleza-y-cuidado-personal, congelados, instantaneos-y-sopas, lacteos, verduras]"
      ],
      "metadata": {
        "id": "nKBFOh-mzyWX"
      }
    },
    {
      "cell_type": "markdown",
      "source": [
        "# 2 - Traga o desvio padrão por categoria de produto.\n",
        "# Qual o comportamento da média e mediana nas categorias com maior desvio?"
      ],
      "metadata": {
        "id": "jdHZurzDzca0"
      }
    },
    {
      "cell_type": "code",
      "source": [
        "# desvio padrão por categoria de produto\n",
        "desvio_padrao_por_categoria = df.groupby('Categoria')['Preco_Normal'].std()\n",
        "desvio_padrao_por_categoria"
      ],
      "metadata": {
        "id": "xEXT1gtoz135",
        "colab": {
          "base_uri": "https://localhost:8080/",
          "height": 335
        },
        "outputId": "f55dc3f3-950b-4ed5-b9c6-25e93dbaa425"
      },
      "execution_count": 70,
      "outputs": [
        {
          "output_type": "execute_result",
          "data": {
            "text/plain": [
              "Categoria\n",
              "belleza-y-cuidado-personal    2210.041719\n",
              "comidas-preparadas            2019.911428\n",
              "congelados                    2111.539896\n",
              "frutas                        1639.151114\n",
              "instantaneos-y-sopas          1170.232869\n",
              "lacteos                       3925.816164\n",
              "verduras                      1012.699625\n",
              "Name: Preco_Normal, dtype: float64"
            ],
            "text/html": [
              "<div>\n",
              "<style scoped>\n",
              "    .dataframe tbody tr th:only-of-type {\n",
              "        vertical-align: middle;\n",
              "    }\n",
              "\n",
              "    .dataframe tbody tr th {\n",
              "        vertical-align: top;\n",
              "    }\n",
              "\n",
              "    .dataframe thead th {\n",
              "        text-align: right;\n",
              "    }\n",
              "</style>\n",
              "<table border=\"1\" class=\"dataframe\">\n",
              "  <thead>\n",
              "    <tr style=\"text-align: right;\">\n",
              "      <th></th>\n",
              "      <th>Preco_Normal</th>\n",
              "    </tr>\n",
              "    <tr>\n",
              "      <th>Categoria</th>\n",
              "      <th></th>\n",
              "    </tr>\n",
              "  </thead>\n",
              "  <tbody>\n",
              "    <tr>\n",
              "      <th>belleza-y-cuidado-personal</th>\n",
              "      <td>2210.041719</td>\n",
              "    </tr>\n",
              "    <tr>\n",
              "      <th>comidas-preparadas</th>\n",
              "      <td>2019.911428</td>\n",
              "    </tr>\n",
              "    <tr>\n",
              "      <th>congelados</th>\n",
              "      <td>2111.539896</td>\n",
              "    </tr>\n",
              "    <tr>\n",
              "      <th>frutas</th>\n",
              "      <td>1639.151114</td>\n",
              "    </tr>\n",
              "    <tr>\n",
              "      <th>instantaneos-y-sopas</th>\n",
              "      <td>1170.232869</td>\n",
              "    </tr>\n",
              "    <tr>\n",
              "      <th>lacteos</th>\n",
              "      <td>3925.816164</td>\n",
              "    </tr>\n",
              "    <tr>\n",
              "      <th>verduras</th>\n",
              "      <td>1012.699625</td>\n",
              "    </tr>\n",
              "  </tbody>\n",
              "</table>\n",
              "</div><br><label><b>dtype:</b> float64</label>"
            ]
          },
          "metadata": {},
          "execution_count": 70
        }
      ]
    },
    {
      "cell_type": "markdown",
      "source": [
        "A categoria lacteos tem um desvio padrão um pouco alto quando comparado com as outras categorias. Isso mostra que os dados estão bem dispersados em relação a média.\n",
        "\n",
        "Quando analisamos a média e a mediana dessa categoria, percebemos que o valor da média (2385.22) é muito maior do que a da mediana (989.0). Provavelmente é uma categoria que apresenta alguns outliers que são responsáveis por elevar esse valor da média."
      ],
      "metadata": {
        "id": "HzsLO4nOz3yJ"
      }
    },
    {
      "cell_type": "markdown",
      "source": [
        "# 3 - Plot um boxplot da distribuição do Preco_Normal para a categoria que você identificou que tem o maior desvio padrão. Como é a distribuição desses dados segundo o boxplot? Você identifica muitos outliers?"
      ],
      "metadata": {
        "id": "4aW51rCHBr2w"
      }
    },
    {
      "cell_type": "markdown",
      "source": [
        "Dica: Para trazer apenas os dados da categoria que você deseja você pode usar o df.loc[df['Categoria'] == 'CATEGORIA ESCOLHIDA'"
      ],
      "metadata": {
        "id": "kwPKkUZnEUSb"
      }
    },
    {
      "cell_type": "code",
      "source": [
        "# boxplot do preço_normal para a categoria lacteos\n",
        "plt.boxplot(df.loc[df['Categoria'] == 'lacteos']['Preco_Normal'])\n",
        "plt.title('Boxplot da distribuição do Preco_Normal para a categoria lacteos')\n",
        "plt.ylabel('Valor', fontsize=12)\n",
        "plt.grid(True, linestyle='--', alpha=0.7)\n",
        "\n",
        "plt.show()"
      ],
      "metadata": {
        "id": "_02thblTCKEF",
        "colab": {
          "base_uri": "https://localhost:8080/",
          "height": 452
        },
        "outputId": "e26da33c-e6a4-4710-b662-0cd47a0810eb"
      },
      "execution_count": 71,
      "outputs": [
        {
          "output_type": "display_data",
          "data": {
            "text/plain": [
              "<Figure size 640x480 with 1 Axes>"
            ],
            "image/png": "[encoded data removed]"
          },
          "metadata": {}
        }
      ]
    },
    {
      "cell_type": "code",
      "source": [
        "# Filtra os dados da categoria 'lacteos'\n",
        "df_lacteos = df[df['Categoria'] == 'lacteos']\n",
        "\n",
        "# Cria o boxplot usando o Plotly Express\n",
        "fig = px.box(df_lacteos, y=\"Preco_Normal\", title=\"Boxplot da distribuição do Preco_Normal para a categoria lacteos\")\n",
        "\n",
        "# Personaliza o eixo y\n",
        "fig.update_layout(\n",
        "    yaxis_title=\"Valor\",\n",
        "    xaxis_title=\"Categoria - Lacteos\",\n",
        "    template=\"plotly_white\"\n",
        ")\n",
        "\n",
        "# Exibe o gráfico\n",
        "fig.show()\n"
      ],
      "metadata": {
        "colab": {
          "base_uri": "https://localhost:8080/",
          "height": 542
        },
        "id": "nsSQ14z1_PH8",
        "outputId": "5e4527ad-2699-4a98-9bb0-74721ba6e112"
      },
      "execution_count": 72,
      "outputs": [
        {
          "output_type": "display_data",
          "data": {
            "text/html": [
              "<html>\n",
              "<head><meta charset=\"utf-8\" /></head>\n",
              "<body>\n",
              "    <div>            <script src=\"https://cdnjs.cloudflare.com/ajax/libs/mathjax/2.7.5/MathJax.js?config=TeX-AMS-MML_SVG\"></script><script type=\"text/javascript\">if (window.MathJax && window.MathJax.Hub && window.MathJax.Hub.Config) {window.MathJax.Hub.Config({SVG: {font: \"STIX-Web\"}});}</script>                <script type=\"text/javascript\">window.PlotlyConfig = {MathJaxConfig: 'local'};</script>\n",
              "        <script charset=\"utf-8\" src=\"https://cdn.plot.ly/plotly-2.35.2.min.js\"></script>                <div id=\"d7a0a858-174b-4ce2-84fc-5f939e1a0a09\" class=\"plotly-graph-div\" style=\"height:525px; width:100%;\"></div>            <script type=\"text/javascript\">                                    window.PLOTLYENV=window.PLOTLYENV || {};                                    if (document.getElementById(\"d7a0a858-174b-4ce2-84fc-5f939e1a0a09\")) {                    Plotly.newPlot(                        \"d7a0a858-174b-4ce2-84fc-5f939e1a0a09\",                        [{\"alignmentgroup\":\"True\",\"hovertemplate\":\"Preco_Normal=%{y}\\u003cextra\\u003e\\u003c\\u002fextra\\u003e\",\"legendgroup\":\"\",\"marker\":{\"color\":\"#636efa\"},\"name\":\"\",\"notched\":false,\"offsetgroup\":\"\",\"orientation\":\"v\",\"showlegend\":false,\"x0\":\" \",\"xaxis\":\"x\",\"y\":[19788,18228,18228,18228,17988,17988,17988,17388,17388,17388,17388,17388,17268,17268,16788,16190,14268,14268,14268,13908,13908,12149,11988,11988,11868,11868,11268,11268,11268,10599,10188,10188,10188,8969,8429,7999,7899,7674,7199,6769,6534,6534,6229,5934,5934,5934,5719,5419,5389,5389,5349,5249,5189,4849,4459,4169,4049,4049,3999,3929,3929,3929,3779,3769,3649,3599,3549,3174,3174,3160,3149,3129,3099,3090,3079,3069,3069,3069,2999,2994,2994,2970,2939,2934,2934,2934,2934,2929,2929,2919,2910,2899,2879,2869,2850,2829,2814,2814,2814,2814,2790,2779,2779,2670,2670,2670,2670,2669,2637,2637,2637,2629,2589,2589,2579,2579,2574,2574,2499,2489,2479,2479,2479,2479,2469,2459,2429,2389,2349,2329,2329,2289,2259,2229,2219,2219,2190,2179,2179,2139,2119,2094,2089,2089,2079,2069,2069,2069,2069,2039,2039,2039,1989,1989,1979,1929,1929,1889,1889,1889,1879,1879,1859,1829,1829,1819,1819,1789,1789,1789,1779,1779,1759,1759,1749,1749,1690,1690,1689,1689,1639,1639,1639,1639,1589,1489,1489,1469,1469,1469,1449,1449,1449,1449,1439,1439,1389,1389,1339,1329,1299,1279,1269,1269,1189,1189,1189,1189,1189,1189,1189,1189,1159,1159,1159,1129,1129,1089,1089,1089,1039,999,999,989,989,989,989,939,939,939,939,899,879,879,879,849,849,849,759,669,655,655,619,619,619,619,619,615,609,609,609,605,599,585,585,585,579,579,579,579,579,575,569,559,559,559,555,555,549,549,515,505,505,505,505,505,505,495,495,485,485,485,469,469,469,465,459,459,459,459,455,455,449,445,445,445,445,445,429,429,425,409,405,405,405,405,405,375,355,349,349,335,335,329,315,315,315,315,315,315,315,315,315,309,309,305,305,305,275,275,275,275,275,269,269,269,245,245,245,245,245,245,245,245,245,245,229,229,229,209,209,209,0,0,0,0,0,0,0,0,0,0,0,0,0,0,0,0,0,0,0,0,0,0,0,0,0,0,0,0,0,0,0,0,0,0,0,0,0,0,0,0,0,0,0,0,0,0,0,0,0,0,0,0,0,0,0,0,0,0,0,0,0,0,0,0,0,0,0,0,0,0,0,0,0,0,0,0,0,0,0,0,0,0,0,0,0,0,0,0,0,0,0,0,0,0,0],\"y0\":\" \",\"yaxis\":\"y\",\"type\":\"box\"}],                        {\"template\":{\"data\":{\"barpolar\":[{\"marker\":{\"line\":{\"color\":\"white\",\"width\":0.5},\"pattern\":{\"fillmode\":\"overlay\",\"size\":10,\"solidity\":0.2}},\"type\":\"barpolar\"}],\"bar\":[{\"error_x\":{\"color\":\"#2a3f5f\"},\"error_y\":{\"color\":\"#2a3f5f\"},\"marker\":{\"line\":{\"color\":\"white\",\"width\":0.5},\"pattern\":{\"fillmode\":\"overlay\",\"size\":10,\"solidity\":0.2}},\"type\":\"bar\"}],\"carpet\":[{\"aaxis\":{\"endlinecolor\":\"#2a3f5f\",\"gridcolor\":\"#C8D4E3\",\"linecolor\":\"#C8D4E3\",\"minorgridcolor\":\"#C8D4E3\",\"startlinecolor\":\"#2a3f5f\"},\"baxis\":{\"endlinecolor\":\"#2a3f5f\",\"gridcolor\":\"#C8D4E3\",\"linecolor\":\"#C8D4E3\",\"minorgridcolor\":\"#C8D4E3\",\"startlinecolor\":\"#2a3f5f\"},\"type\":\"carpet\"}],\"choropleth\":[{\"colorbar\":{\"outlinewidth\":0,\"ticks\":\"\"},\"type\":\"choropleth\"}],\"contourcarpet\":[{\"colorbar\":{\"outlinewidth\":0,\"ticks\":\"\"},\"type\":\"contourcarpet\"}],\"contour\":[{\"colorbar\":{\"outlinewidth\":0,\"ticks\":\"\"},\"colorscale\":[[0.0,\"#0d0887\"],[0.1111111111111111,\"#46039f\"],[0.2222222222222222,\"#7201a8\"],[0.3333333333333333,\"#9c179e\"],[0.4444444444444444,\"#bd3786\"],[0.5555555555555556,\"#d8576b\"],[0.6666666666666666,\"#ed7953\"],[0.7777777777777778,\"#fb9f3a\"],[0.8888888888888888,\"#fdca26\"],[1.0,\"#f0f921\"]],\"type\":\"contour\"}],\"heatmapgl\":[{\"colorbar\":{\"outlinewidth\":0,\"ticks\":\"\"},\"colorscale\":[[0.0,\"#0d0887\"],[0.1111111111111111,\"#46039f\"],[0.2222222222222222,\"#7201a8\"],[0.3333333333333333,\"#9c179e\"],[0.4444444444444444,\"#bd3786\"],[0.5555555555555556,\"#d8576b\"],[0.6666666666666666,\"#ed7953\"],[0.7777777777777778,\"#fb9f3a\"],[0.8888888888888888,\"#fdca26\"],[1.0,\"#f0f921\"]],\"type\":\"heatmapgl\"}],\"heatmap\":[{\"colorbar\":{\"outlinewidth\":0,\"ticks\":\"\"},\"colorscale\":[[0.0,\"#0d0887\"],[0.1111111111111111,\"#46039f\"],[0.2222222222222222,\"#7201a8\"],[0.3333333333333333,\"#9c179e\"],[0.4444444444444444,\"#bd3786\"],[0.5555555555555556,\"#d8576b\"],[0.6666666666666666,\"#ed7953\"],[0.7777777777777778,\"#fb9f3a\"],[0.8888888888888888,\"#fdca26\"],[1.0,\"#f0f921\"]],\"type\":\"heatmap\"}],\"histogram2dcontour\":[{\"colorbar\":{\"outlinewidth\":0,\"ticks\":\"\"},\"colorscale\":[[0.0,\"#0d0887\"],[0.1111111111111111,\"#46039f\"],[0.2222222222222222,\"#7201a8\"],[0.3333333333333333,\"#9c179e\"],[0.4444444444444444,\"#bd3786\"],[0.5555555555555556,\"#d8576b\"],[0.6666666666666666,\"#ed7953\"],[0.7777777777777778,\"#fb9f3a\"],[0.8888888888888888,\"#fdca26\"],[1.0,\"#f0f921\"]],\"type\":\"histogram2dcontour\"}],\"histogram2d\":[{\"colorbar\":{\"outlinewidth\":0,\"ticks\":\"\"},\"colorscale\":[[0.0,\"#0d0887\"],[0.1111111111111111,\"#46039f\"],[0.2222222222222222,\"#7201a8\"],[0.3333333333333333,\"#9c179e\"],[0.4444444444444444,\"#bd3786\"],[0.5555555555555556,\"#d8576b\"],[0.6666666666666666,\"#ed7953\"],[0.7777777777777778,\"#fb9f3a\"],[0.8888888888888888,\"#fdca26\"],[1.0,\"#f0f921\"]],\"type\":\"histogram2d\"}],\"histogram\":[{\"marker\":{\"pattern\":{\"fillmode\":\"overlay\",\"size\":10,\"solidity\":0.2}},\"type\":\"histogram\"}],\"mesh3d\":[{\"colorbar\":{\"outlinewidth\":0,\"ticks\":\"\"},\"type\":\"mesh3d\"}],\"parcoords\":[{\"line\":{\"colorbar\":{\"outlinewidth\":0,\"ticks\":\"\"}},\"type\":\"parcoords\"}],\"pie\":[{\"automargin\":true,\"type\":\"pie\"}],\"scatter3d\":[{\"line\":{\"colorbar\":{\"outlinewidth\":0,\"ticks\":\"\"}},\"marker\":{\"colorbar\":{\"outlinewidth\":0,\"ticks\":\"\"}},\"type\":\"scatter3d\"}],\"scattercarpet\":[{\"marker\":{\"colorbar\":{\"outlinewidth\":0,\"ticks\":\"\"}},\"type\":\"scattercarpet\"}],\"scattergeo\":[{\"marker\":{\"colorbar\":{\"outlinewidth\":0,\"ticks\":\"\"}},\"type\":\"scattergeo\"}],\"scattergl\":[{\"marker\":{\"colorbar\":{\"outlinewidth\":0,\"ticks\":\"\"}},\"type\":\"scattergl\"}],\"scattermapbox\":[{\"marker\":{\"colorbar\":{\"outlinewidth\":0,\"ticks\":\"\"}},\"type\":\"scattermapbox\"}],\"scatterpolargl\":[{\"marker\":{\"colorbar\":{\"outlinewidth\":0,\"ticks\":\"\"}},\"type\":\"scatterpolargl\"}],\"scatterpolar\":[{\"marker\":{\"colorbar\":{\"outlinewidth\":0,\"ticks\":\"\"}},\"type\":\"scatterpolar\"}],\"scatter\":[{\"fillpattern\":{\"fillmode\":\"overlay\",\"size\":10,\"solidity\":0.2},\"type\":\"scatter\"}],\"scatterternary\":[{\"marker\":{\"colorbar\":{\"outlinewidth\":0,\"ticks\":\"\"}},\"type\":\"scatterternary\"}],\"surface\":[{\"colorbar\":{\"outlinewidth\":0,\"ticks\":\"\"},\"colorscale\":[[0.0,\"#0d0887\"],[0.1111111111111111,\"#46039f\"],[0.2222222222222222,\"#7201a8\"],[0.3333333333333333,\"#9c179e\"],[0.4444444444444444,\"#bd3786\"],[0.5555555555555556,\"#d8576b\"],[0.6666666666666666,\"#ed7953\"],[0.7777777777777778,\"#fb9f3a\"],[0.8888888888888888,\"#fdca26\"],[1.0,\"#f0f921\"]],\"type\":\"surface\"}],\"table\":[{\"cells\":{\"fill\":{\"color\":\"#EBF0F8\"},\"line\":{\"color\":\"white\"}},\"header\":{\"fill\":{\"color\":\"#C8D4E3\"},\"line\":{\"color\":\"white\"}},\"type\":\"table\"}]},\"layout\":{\"annotationdefaults\":{\"arrowcolor\":\"#2a3f5f\",\"arrowhead\":0,\"arrowwidth\":1},\"autotypenumbers\":\"strict\",\"coloraxis\":{\"colorbar\":{\"outlinewidth\":0,\"ticks\":\"\"}},\"colorscale\":{\"diverging\":[[0,\"#8e0152\"],[0.1,\"#c51b7d\"],[0.2,\"#de77ae\"],[0.3,\"#f1b6da\"],[0.4,\"#fde0ef\"],[0.5,\"#f7f7f7\"],[0.6,\"#e6f5d0\"],[0.7,\"#b8e186\"],[0.8,\"#7fbc41\"],[0.9,\"#4d9221\"],[1,\"#276419\"]],\"sequential\":[[0.0,\"#0d0887\"],[0.1111111111111111,\"#46039f\"],[0.2222222222222222,\"#7201a8\"],[0.3333333333333333,\"#9c179e\"],[0.4444444444444444,\"#bd3786\"],[0.5555555555555556,\"#d8576b\"],[0.6666666666666666,\"#ed7953\"],[0.7777777777777778,\"#fb9f3a\"],[0.8888888888888888,\"#fdca26\"],[1.0,\"#f0f921\"]],\"sequentialminus\":[[0.0,\"#0d0887\"],[0.1111111111111111,\"#46039f\"],[0.2222222222222222,\"#7201a8\"],[0.3333333333333333,\"#9c179e\"],[0.4444444444444444,\"#bd3786\"],[0.5555555555555556,\"#d8576b\"],[0.6666666666666666,\"#ed7953\"],[0.7777777777777778,\"#fb9f3a\"],[0.8888888888888888,\"#fdca26\"],[1.0,\"#f0f921\"]]},\"colorway\":[\"#636efa\",\"#EF553B\",\"#00cc96\",\"#ab63fa\",\"#FFA15A\",\"#19d3f3\",\"#FF6692\",\"#B6E880\",\"#FF97FF\",\"#FECB52\"],\"font\":{\"color\":\"#2a3f5f\"},\"geo\":{\"bgcolor\":\"white\",\"lakecolor\":\"white\",\"landcolor\":\"white\",\"showlakes\":true,\"showland\":true,\"subunitcolor\":\"#C8D4E3\"},\"hoverlabel\":{\"align\":\"left\"},\"hovermode\":\"closest\",\"mapbox\":{\"style\":\"light\"},\"paper_bgcolor\":\"white\",\"plot_bgcolor\":\"white\",\"polar\":{\"angularaxis\":{\"gridcolor\":\"#EBF0F8\",\"linecolor\":\"#EBF0F8\",\"ticks\":\"\"},\"bgcolor\":\"white\",\"radialaxis\":{\"gridcolor\":\"#EBF0F8\",\"linecolor\":\"#EBF0F8\",\"ticks\":\"\"}},\"scene\":{\"xaxis\":{\"backgroundcolor\":\"white\",\"gridcolor\":\"#DFE8F3\",\"gridwidth\":2,\"linecolor\":\"#EBF0F8\",\"showbackground\":true,\"ticks\":\"\",\"zerolinecolor\":\"#EBF0F8\"},\"yaxis\":{\"backgroundcolor\":\"white\",\"gridcolor\":\"#DFE8F3\",\"gridwidth\":2,\"linecolor\":\"#EBF0F8\",\"showbackground\":true,\"ticks\":\"\",\"zerolinecolor\":\"#EBF0F8\"},\"zaxis\":{\"backgroundcolor\":\"white\",\"gridcolor\":\"#DFE8F3\",\"gridwidth\":2,\"linecolor\":\"#EBF0F8\",\"showbackground\":true,\"ticks\":\"\",\"zerolinecolor\":\"#EBF0F8\"}},\"shapedefaults\":{\"line\":{\"color\":\"#2a3f5f\"}},\"ternary\":{\"aaxis\":{\"gridcolor\":\"#DFE8F3\",\"linecolor\":\"#A2B1C6\",\"ticks\":\"\"},\"baxis\":{\"gridcolor\":\"#DFE8F3\",\"linecolor\":\"#A2B1C6\",\"ticks\":\"\"},\"bgcolor\":\"white\",\"caxis\":{\"gridcolor\":\"#DFE8F3\",\"linecolor\":\"#A2B1C6\",\"ticks\":\"\"}},\"title\":{\"x\":0.05},\"xaxis\":{\"automargin\":true,\"gridcolor\":\"#EBF0F8\",\"linecolor\":\"#EBF0F8\",\"ticks\":\"\",\"title\":{\"standoff\":15},\"zerolinecolor\":\"#EBF0F8\",\"zerolinewidth\":2},\"yaxis\":{\"automargin\":true,\"gridcolor\":\"#EBF0F8\",\"linecolor\":\"#EBF0F8\",\"ticks\":\"\",\"title\":{\"standoff\":15},\"zerolinecolor\":\"#EBF0F8\",\"zerolinewidth\":2}}},\"xaxis\":{\"anchor\":\"y\",\"domain\":[0.0,1.0],\"title\":{\"text\":\"Categoria - Lacteos\"}},\"yaxis\":{\"anchor\":\"x\",\"domain\":[0.0,1.0],\"title\":{\"text\":\"Valor\"}},\"legend\":{\"tracegroupgap\":0},\"title\":{\"text\":\"Boxplot da distribuição do Preco_Normal para a categoria lacteos\"},\"boxmode\":\"group\"},                        {\"responsive\": true}                    ).then(function(){\n",
              "                            \n",
              "var gd = document.getElementById('d7a0a858-174b-4ce2-84fc-5f939e1a0a09');\n",
              "var x = new MutationObserver(function (mutations, observer) {{\n",
              "        var display = window.getComputedStyle(gd).display;\n",
              "        if (!display || display === 'none') {{\n",
              "            console.log([gd, 'removed!']);\n",
              "            Plotly.purge(gd);\n",
              "            observer.disconnect();\n",
              "        }}\n",
              "}});\n",
              "\n",
              "// Listen for the removal of the full notebook cells\n",
              "var notebookContainer = gd.closest('#notebook-container');\n",
              "if (notebookContainer) {{\n",
              "    x.observe(notebookContainer, {childList: true});\n",
              "}}\n",
              "\n",
              "// Listen for the clearing of the current output cell\n",
              "var outputEl = gd.closest('.output');\n",
              "if (outputEl) {{\n",
              "    x.observe(outputEl, {childList: true});\n",
              "}}\n",
              "\n",
              "                        })                };                            </script>        </div>\n",
              "</body>\n",
              "</html>"
            ]
          },
          "metadata": {}
        }
      ]
    },
    {
      "cell_type": "code",
      "source": [
        "# Calcular Q1, Q3 e IQR\n",
        "Q1 = df['Preco_Normal'].quantile(0.25)\n",
        "Q3 = df['Preco_Normal'].quantile(0.75)\n",
        "IQR = Q3 - Q1\n",
        "\n",
        "# Definir limites inferior e superior para os outliers\n",
        "limite_inferior = Q1 - 1.5 * IQR\n",
        "limite_superior = Q3 + 1.5 * IQR\n",
        "\n",
        "# Contar os outliers\n",
        "outliers = df[(df['Preco_Normal'] < limite_inferior) | (df['Preco_Normal'] > limite_superior)]\n",
        "\n",
        "# Exibir o número de outliers\n",
        "print(f'Número de outliers: {outliers.shape[0]}')\n"
      ],
      "metadata": {
        "colab": {
          "base_uri": "https://localhost:8080/"
        },
        "id": "CRF2-4bBGer0",
        "outputId": "5c2daf0a-def4-462b-c583-a96dff3cd91c"
      },
      "execution_count": 73,
      "outputs": [
        {
          "output_type": "stream",
          "name": "stdout",
          "text": [
            "Número de outliers: 53\n"
          ]
        }
      ]
    },
    {
      "cell_type": "markdown",
      "source": [
        "Notamos que nossa suspeita por outliers é verdadeira. Esses valores estão elevando o valor da média, fazendo com que ela seja muito maior do que a mediana. Quando isso acontece, geralmente indica que a distribuição está deslocada para a direita, ou seja, ela tem uma assimetria à direita.\n",
        "\n",
        "Isso acontece porque a média é sensível a valores extremos (outliers). Quando existem valores muito altos na distribuição, esses valores puxam a média para a direita, fazendo com que ela seja maior que a mediana."
      ],
      "metadata": {
        "id": "Mum27wJXGUQi"
      }
    },
    {
      "cell_type": "markdown",
      "source": [
        "# 4 - Plote um gráfico de barras onde temos a média de descontos por categoria."
      ],
      "metadata": {
        "id": "w5xgQBC_0Hg-"
      }
    },
    {
      "cell_type": "code",
      "source": [
        "# media de descontos por categoria\n",
        "media_desconto_por_categoria = df.groupby('Categoria')['Desconto'].mean().sort_values(ascending=False)\n",
        "media_desconto_por_categoria"
      ],
      "metadata": {
        "id": "DBj5zAdI0QfI",
        "colab": {
          "base_uri": "https://localhost:8080/",
          "height": 335
        },
        "outputId": "c50651b2-b369-4ee0-efb3-c097df6973d7"
      },
      "execution_count": 83,
      "outputs": [
        {
          "output_type": "execute_result",
          "data": {
            "text/plain": [
              "Categoria\n",
              "congelados                    154.029787\n",
              "belleza-y-cuidado-personal    123.083682\n",
              "comidas-preparadas             43.478261\n",
              "lacteos                        17.411633\n",
              "frutas                          0.000000\n",
              "instantaneos-y-sopas            0.000000\n",
              "verduras                        0.000000\n",
              "Name: Desconto, dtype: float64"
            ],
            "text/html": [
              "<div>\n",
              "<style scoped>\n",
              "    .dataframe tbody tr th:only-of-type {\n",
              "        vertical-align: middle;\n",
              "    }\n",
              "\n",
              "    .dataframe tbody tr th {\n",
              "        vertical-align: top;\n",
              "    }\n",
              "\n",
              "    .dataframe thead th {\n",
              "        text-align: right;\n",
              "    }\n",
              "</style>\n",
              "<table border=\"1\" class=\"dataframe\">\n",
              "  <thead>\n",
              "    <tr style=\"text-align: right;\">\n",
              "      <th></th>\n",
              "      <th>Desconto</th>\n",
              "    </tr>\n",
              "    <tr>\n",
              "      <th>Categoria</th>\n",
              "      <th></th>\n",
              "    </tr>\n",
              "  </thead>\n",
              "  <tbody>\n",
              "    <tr>\n",
              "      <th>congelados</th>\n",
              "      <td>154.029787</td>\n",
              "    </tr>\n",
              "    <tr>\n",
              "      <th>belleza-y-cuidado-personal</th>\n",
              "      <td>123.083682</td>\n",
              "    </tr>\n",
              "    <tr>\n",
              "      <th>comidas-preparadas</th>\n",
              "      <td>43.478261</td>\n",
              "    </tr>\n",
              "    <tr>\n",
              "      <th>lacteos</th>\n",
              "      <td>17.411633</td>\n",
              "    </tr>\n",
              "    <tr>\n",
              "      <th>frutas</th>\n",
              "      <td>0.000000</td>\n",
              "    </tr>\n",
              "    <tr>\n",
              "      <th>instantaneos-y-sopas</th>\n",
              "      <td>0.000000</td>\n",
              "    </tr>\n",
              "    <tr>\n",
              "      <th>verduras</th>\n",
              "      <td>0.000000</td>\n",
              "    </tr>\n",
              "  </tbody>\n",
              "</table>\n",
              "</div><br><label><b>dtype:</b> float64</label>"
            ]
          },
          "metadata": {},
          "execution_count": 83
        }
      ]
    },
    {
      "cell_type": "code",
      "source": [
        "# drop onde a media dos descontos == 0\n",
        "media_desconto_por_categoria = media_desconto_por_categoria[media_desconto_por_categoria != 0]\n",
        "media_desconto_por_categoria"
      ],
      "metadata": {
        "colab": {
          "base_uri": "https://localhost:8080/",
          "height": 240
        },
        "id": "RDgNrWPESgdj",
        "outputId": "72647c0b-3173-4c84-a8e4-9054432b60e1"
      },
      "execution_count": 85,
      "outputs": [
        {
          "output_type": "execute_result",
          "data": {
            "text/plain": [
              "Categoria\n",
              "congelados                    154.029787\n",
              "belleza-y-cuidado-personal    123.083682\n",
              "comidas-preparadas             43.478261\n",
              "lacteos                        17.411633\n",
              "Name: Desconto, dtype: float64"
            ],
            "text/html": [
              "<div>\n",
              "<style scoped>\n",
              "    .dataframe tbody tr th:only-of-type {\n",
              "        vertical-align: middle;\n",
              "    }\n",
              "\n",
              "    .dataframe tbody tr th {\n",
              "        vertical-align: top;\n",
              "    }\n",
              "\n",
              "    .dataframe thead th {\n",
              "        text-align: right;\n",
              "    }\n",
              "</style>\n",
              "<table border=\"1\" class=\"dataframe\">\n",
              "  <thead>\n",
              "    <tr style=\"text-align: right;\">\n",
              "      <th></th>\n",
              "      <th>Desconto</th>\n",
              "    </tr>\n",
              "    <tr>\n",
              "      <th>Categoria</th>\n",
              "      <th></th>\n",
              "    </tr>\n",
              "  </thead>\n",
              "  <tbody>\n",
              "    <tr>\n",
              "      <th>congelados</th>\n",
              "      <td>154.029787</td>\n",
              "    </tr>\n",
              "    <tr>\n",
              "      <th>belleza-y-cuidado-personal</th>\n",
              "      <td>123.083682</td>\n",
              "    </tr>\n",
              "    <tr>\n",
              "      <th>comidas-preparadas</th>\n",
              "      <td>43.478261</td>\n",
              "    </tr>\n",
              "    <tr>\n",
              "      <th>lacteos</th>\n",
              "      <td>17.411633</td>\n",
              "    </tr>\n",
              "  </tbody>\n",
              "</table>\n",
              "</div><br><label><b>dtype:</b> float64</label>"
            ]
          },
          "metadata": {},
          "execution_count": 85
        }
      ]
    },
    {
      "cell_type": "code",
      "source": [
        "# Definindo as cores do gráfico\n",
        "# Azul para o maior valor\n",
        "cores = ['#0077b6' if i < 1 else  '#adb5bd' for i in range(len(media_desconto_por_categoria))]\n",
        "\n",
        "# Criação do gráfico de barras horizontais\n",
        "plt.figure(figsize=(10, 6))\n",
        "plt.barh(media_desconto_por_categoria.index, media_desconto_por_categoria.values, color = cores)  # Usando .values para acessar os dados da Série\n",
        "\n",
        "# Remover todas as bordas, exceto a borda do eixo Y\n",
        "ax = plt.gca()\n",
        "ax.spines['top'].set_visible(False)    # Remove a borda superior\n",
        "ax.spines['right'].set_visible(False)  # Remove a borda direita\n",
        "ax.spines['bottom'].set_visible(False) # Remove a borda inferior\n",
        "# A borda do eixo Y (esquerda) permanece visível\n",
        "\n",
        "# Remover o eixo X\n",
        "plt.xticks([])\n",
        "\n",
        "\n",
        "# Escrevendo os valores em cada barra\n",
        "for i, valor in enumerate(media_desconto_por_categoria):\n",
        "    qtd = f'R$ {valor:,.2f}'.replace(',', '.')  # Formatação do valor\n",
        "    offset = 20 # Ajuste do offset (dependendo dos valores, pode ser necessário ajustar)\n",
        "    ax.text(valor + offset, i, qtd, color='black', fontsize=10, fontweight='bold', ha='right', va='center')\n",
        "\n",
        "# Título do gráfico\n",
        "plt.title('Média de Desconto por Categoria')\n",
        "\n",
        "# Exibir o gráfico\n",
        "plt.show()\n"
      ],
      "metadata": {
        "colab": {
          "base_uri": "https://localhost:8080/",
          "height": 521
        },
        "id": "egxjCGt3SbNV",
        "outputId": "d4f7d193-bca7-4482-a72a-fd3055293d28"
      },
      "execution_count": 114,
      "outputs": [
        {
          "output_type": "display_data",
          "data": {
            "text/plain": [
              "<Figure size 1000x600 with 1 Axes>"
            ],
            "image/png": "[encoded data removed]"
          },
          "metadata": {}
        }
      ]
    },
    {
      "cell_type": "markdown",
      "source": [
        "# 5 - Plote um gráfico de mapa interativo agrupando os dados por categoria, marca e trazendo a média de desconto."
      ],
      "metadata": {
        "id": "vqlx0w7E07uC"
      }
    },
    {
      "cell_type": "code",
      "source": [
        "# agrupamento de um DataFrame por categoria e marca, e calculando a média de desconto\n",
        "desconto_por_categoria_marca = df.groupby(['Categoria', 'Marca'])['Desconto'].mean().reset_index()\n",
        "\n",
        "# criando um gráfico de mapa interativo com os valores de descontos médios por categoria e marca\n",
        "fig = px.treemap(desconto_por_categoria_marca,\n",
        "                 path=['Categoria', 'Marca'],\n",
        "                 values='Desconto',\n",
        "                 title='Média de Desconto por Categoria e Marca', color='Marca')\n",
        "\n",
        "# exibindo o gráfico\n",
        "fig.show()"
      ],
      "metadata": {
        "id": "D-JWM64Q1NzB",
        "colab": {
          "base_uri": "https://localhost:8080/",
          "height": 542
        },
        "outputId": "1ea9597e-da9b-4f94-98c5-1857cef450c2"
      },
      "execution_count": 115,
      "outputs": [
        {
          "output_type": "display_data",
          "data": {
            "text/html": [
              "<html>\n",
              "<head><meta charset=\"utf-8\" /></head>\n",
              "<body>\n",
              "    <div>            <script src=\"https://cdnjs.cloudflare.com/ajax/libs/mathjax/2.7.5/MathJax.js?config=TeX-AMS-MML_SVG\"></script><script type=\"text/javascript\">if (window.MathJax && window.MathJax.Hub && window.MathJax.Hub.Config) {window.MathJax.Hub.Config({SVG: {font: \"STIX-Web\"}});}</script>                <script type=\"text/javascript\">window.PlotlyConfig = {MathJaxConfig: 'local'};</script>\n",
              "        <script charset=\"utf-8\" src=\"https://cdn.plot.ly/plotly-2.35.2.min.js\"></script>                <div id=\"09d29660-b3bf-440c-a0df-31048f78f797\" class=\"plotly-graph-div\" style=\"height:525px; width:100%;\"></div>            <script type=\"text/javascript\">                                    window.PLOTLYENV=window.PLOTLYENV || {};                                    if (document.getElementById(\"09d29660-b3bf-440c-a0df-31048f78f797\")) {                    Plotly.newPlot(                        \"09d29660-b3bf-440c-a0df-31048f78f797\",                        [{\"branchvalues\":\"total\",\"customdata\":[[\"Protex\"],[\"Qualy\"],[\"Viennetta Bresler\"],[\"Old Spice\"],[\"King\"],[\"1+1 Soprole\"],[\"Activia\"],[\"Quillayes\"],[\"Agrosano\"],[\"Alcafood\"],[\"Alimentos Shen\"],[\"Rana\"],[\"Always\"],[\"Aquafresh\"],[\"Receta Del Abuelo\"],[\"Kotex\"],[\"Gourmet\"],[\"Kumey\"],[\"Astra\"],[\"Regimel\"],[\"Rexona\"],[\"Axe\"],[\"Omega 3\"],[\"La Crianza\"],[\"Rexona Clinical\"],[\"Rexona Men\"],[\"Rexona Men Clinical\"],[\"Babyland\"],[\"Rikü\"],[\"Rock\"],[\"Sadia\"],[\"Guallarauco\"],[\"Ballerina\"],[\"Base Culinar\"],[\"Sadia\"],[\"Head & Shoulders\"],[\"Oral Fresh\"],[\"La Crianza\"],[\"Sahne Nuss\"],[\"Sahne Nuss\"],[\"San Francisco De Loncomilla\"],[\"Bellekiss\"],[\"Yogu - Yogu\"],[\"BiO\"],[\"Bonella\"],[\"Bravissimo\"],[\"Bredenmaster\"],[\"Bresler\"],[\"Brooks\"],[\"Calan\"],[\"Lady Speed Stick\"],[\"Calo\"],[\"Not Ice Cream\"],[\"Zerolacto\"],[\"Not Milk\"],[\"Ladysoft\"],[\"Carefree\"],[\"Carozzi\"],[\"Carte Dor\"],[\"Oral-B\"],[\"Le Sancy\"],[\"Chamyto\"],[\"Chiquitín\"],[\"Cintazul\"],[\"PF\"],[\"San Ignacio\"],[\"Colgate\"],[\"Zole\"],[\"Lefersa\"],[\"Collico\"],[\"San Jorge\"],[\"Light & Free\"],[\"Herbal\"],[\"Colun\"],[\"Copacabana\"],[\"Corbac\"],[\"Santa Isabel\"],[\"Santa Isabel\"],[\"Cotidian\"],[\"Cotosan\"],[\"Santa Isabel\"],[\"Santa Marta\"],[\"PF\"],[\"Linic\"],[\"Savory\"],[\"Listerine\"],[\"Loncoleche\"],[\"Los Alerces\"],[\"Schick\"],[\"Pamperita\"],[\"Crucina\"],[\"Pantene\"],[\"Sedal\"],[\"Sensodyne\"],[\"Shake A Shake Lonco Leche\"],[\"Signore Mario\"],[\"Cuisine & Co\"],[\"Cuisine & Co\"],[\"Cuisine & Co\"],[\"Maggi\"],[\"Magnum\"],[\"Marco Polo\"],[\"Simond'S\"],[\"Simonds\"],[\"Cuisine & Co\"],[\"Sofruco\"],[\"Danone\"],[\"Deline\"],[\"Mega\"],[\"Herbal Essences\"],[\"Solo Italia\"],[\"Dento\"],[\"Dole\"],[\"Dove\"],[\"Dove Men\"],[\"Soprole\"],[\"Soprole Activ\"],[\"Hoffmann\"],[\"Minuto Verde\"],[\"Speed Stick\"],[\"Duralón\"],[\"Elite\"],[\"Elvive\"],[\"Familand\"],[\"Mister Veggie\"],[\"Máxima MP\"],[\"Ideal\"],[\"Máxima MP\"],[\"Naturella\"],[\"Super Beef\"],[\"Naturezza\"],[\"Super Cerdo\"],[\"Nesquik\"],[\"Ilicit\"],[\"Pepsodent\"],[\"Super Pollo\"],[\"Sureña\"],[\"Nestlé\"],[\"Family Care\"],[\"Fiesta\"],[\"Fructis\"],[\"Surlat\"],[\"Svelty\"],[\"Frutas Y Verduras Propias\"],[\"Frutas Y Verduras Propias\"],[\"Oikos\"],[\"Jumbo\"],[\"Tena\"],[\"Tivoni\"],[\"Frutas Y Verduras Santa Isabel\"],[\"Next\"],[\"Nido\"],[\"Nivea\"],[\"Traverso\"],[\"Trianon\"],[\"Turkey Hill\"],[\"Frutos Del Maipo\"],[\"Nivea For Men\"],[\"Plenitud\"],[\"Garnier\"],[\"Nosotras\"],[\"Gillette\"],[\"Giselle\"],[\"Not Burger\"],[\"Tío Nacho\"],[\"Vanart\"],[\"Not Chicken\"],[\"(?)\"],[\"(?)\"],[\"(?)\"],[\"(?)\"],[\"(?)\"],[\"(?)\"],[\"(?)\"]],\"domain\":{\"x\":[0.0,1.0],\"y\":[0.0,1.0]},\"hovertemplate\":\"labels=%{label}\\u003cbr\\u003eDesconto=%{value}\\u003cbr\\u003eparent=%{parent}\\u003cbr\\u003eid=%{id}\\u003cbr\\u003eMarca=%{customdata[0]}\\u003cextra\\u003e\\u003c\\u002fextra\\u003e\",\"ids\":[\"belleza-y-cuidado-personal\\u002fProtex\",\"lacteos\\u002fQualy\",\"congelados\\u002fViennetta Bresler\",\"belleza-y-cuidado-personal\\u002fOld Spice\",\"congelados\\u002fKing\",\"lacteos\\u002f1+1 Soprole\",\"lacteos\\u002fActivia\",\"lacteos\\u002fQuillayes\",\"verduras\\u002fAgrosano\",\"instantaneos-y-sopas\\u002fAlcafood\",\"congelados\\u002fAlimentos Shen\",\"comidas-preparadas\\u002fRana\",\"belleza-y-cuidado-personal\\u002fAlways\",\"belleza-y-cuidado-personal\\u002fAquafresh\",\"congelados\\u002fReceta Del Abuelo\",\"belleza-y-cuidado-personal\\u002fKotex\",\"instantaneos-y-sopas\\u002fGourmet\",\"lacteos\\u002fKumey\",\"lacteos\\u002fAstra\",\"lacteos\\u002fRegimel\",\"belleza-y-cuidado-personal\\u002fRexona\",\"belleza-y-cuidado-personal\\u002fAxe\",\"lacteos\\u002fOmega 3\",\"comidas-preparadas\\u002fLa Crianza\",\"belleza-y-cuidado-personal\\u002fRexona Clinical\",\"belleza-y-cuidado-personal\\u002fRexona Men\",\"belleza-y-cuidado-personal\\u002fRexona Men Clinical\",\"belleza-y-cuidado-personal\\u002fBabyland\",\"congelados\\u002fRikü\",\"congelados\\u002fRock\",\"comidas-preparadas\\u002fSadia\",\"congelados\\u002fGuallarauco\",\"belleza-y-cuidado-personal\\u002fBallerina\",\"lacteos\\u002fBase Culinar\",\"congelados\\u002fSadia\",\"belleza-y-cuidado-personal\\u002fHead & Shoulders\",\"belleza-y-cuidado-personal\\u002fOral Fresh\",\"congelados\\u002fLa Crianza\",\"congelados\\u002fSahne Nuss\",\"lacteos\\u002fSahne Nuss\",\"congelados\\u002fSan Francisco De Loncomilla\",\"belleza-y-cuidado-personal\\u002fBellekiss\",\"lacteos\\u002fYogu - Yogu\",\"belleza-y-cuidado-personal\\u002fBiO\",\"lacteos\\u002fBonella\",\"congelados\\u002fBravissimo\",\"comidas-preparadas\\u002fBredenmaster\",\"congelados\\u002fBresler\",\"belleza-y-cuidado-personal\\u002fBrooks\",\"lacteos\\u002fCalan\",\"belleza-y-cuidado-personal\\u002fLady Speed Stick\",\"lacteos\\u002fCalo\",\"congelados\\u002fNot Ice Cream\",\"lacteos\\u002fZerolacto\",\"lacteos\\u002fNot Milk\",\"belleza-y-cuidado-personal\\u002fLadysoft\",\"belleza-y-cuidado-personal\\u002fCarefree\",\"instantaneos-y-sopas\\u002fCarozzi\",\"congelados\\u002fCarte Dor\",\"belleza-y-cuidado-personal\\u002fOral-B\",\"belleza-y-cuidado-personal\\u002fLe Sancy\",\"lacteos\\u002fChamyto\",\"lacteos\\u002fChiquitín\",\"lacteos\\u002fCintazul\",\"comidas-preparadas\\u002fPF\",\"lacteos\\u002fSan Ignacio\",\"belleza-y-cuidado-personal\\u002fColgate\",\"congelados\\u002fZole\",\"lacteos\\u002fLefersa\",\"lacteos\\u002fCollico\",\"congelados\\u002fSan Jorge\",\"lacteos\\u002fLight & Free\",\"belleza-y-cuidado-personal\\u002fHerbal\",\"lacteos\\u002fColun\",\"lacteos\\u002fCopacabana\",\"comidas-preparadas\\u002fCorbac\",\"comidas-preparadas\\u002fSanta Isabel\",\"instantaneos-y-sopas\\u002fSanta Isabel\",\"belleza-y-cuidado-personal\\u002fCotidian\",\"belleza-y-cuidado-personal\\u002fCotosan\",\"lacteos\\u002fSanta Isabel\",\"lacteos\\u002fSanta Marta\",\"congelados\\u002fPF\",\"belleza-y-cuidado-personal\\u002fLinic\",\"congelados\\u002fSavory\",\"belleza-y-cuidado-personal\\u002fListerine\",\"lacteos\\u002fLoncoleche\",\"lacteos\\u002fLos Alerces\",\"belleza-y-cuidado-personal\\u002fSchick\",\"lacteos\\u002fPamperita\",\"lacteos\\u002fCrucina\",\"belleza-y-cuidado-personal\\u002fPantene\",\"belleza-y-cuidado-personal\\u002fSedal\",\"belleza-y-cuidado-personal\\u002fSensodyne\",\"lacteos\\u002fShake A Shake Lonco Leche\",\"lacteos\\u002fSignore Mario\",\"comidas-preparadas\\u002fCuisine & Co\",\"congelados\\u002fCuisine & Co\",\"instantaneos-y-sopas\\u002fCuisine & Co\",\"instantaneos-y-sopas\\u002fMaggi\",\"congelados\\u002fMagnum\",\"lacteos\\u002fMarco Polo\",\"belleza-y-cuidado-personal\\u002fSimond'S\",\"belleza-y-cuidado-personal\\u002fSimonds\",\"lacteos\\u002fCuisine & Co\",\"frutas\\u002fSofruco\",\"lacteos\\u002fDanone\",\"lacteos\\u002fDeline\",\"congelados\\u002fMega\",\"belleza-y-cuidado-personal\\u002fHerbal Essences\",\"comidas-preparadas\\u002fSolo Italia\",\"belleza-y-cuidado-personal\\u002fDento\",\"verduras\\u002fDole\",\"belleza-y-cuidado-personal\\u002fDove\",\"belleza-y-cuidado-personal\\u002fDove Men\",\"lacteos\\u002fSoprole\",\"lacteos\\u002fSoprole Activ\",\"instantaneos-y-sopas\\u002fHoffmann\",\"congelados\\u002fMinuto Verde\",\"belleza-y-cuidado-personal\\u002fSpeed Stick\",\"belleza-y-cuidado-personal\\u002fDuralón\",\"belleza-y-cuidado-personal\\u002fElite\",\"belleza-y-cuidado-personal\\u002fElvive\",\"belleza-y-cuidado-personal\\u002fFamiland\",\"congelados\\u002fMister Veggie\",\"instantaneos-y-sopas\\u002fMáxima MP\",\"lacteos\\u002fIdeal\",\"lacteos\\u002fMáxima MP\",\"belleza-y-cuidado-personal\\u002fNaturella\",\"congelados\\u002fSuper Beef\",\"instantaneos-y-sopas\\u002fNaturezza\",\"congelados\\u002fSuper Cerdo\",\"lacteos\\u002fNesquik\",\"belleza-y-cuidado-personal\\u002fIlicit\",\"belleza-y-cuidado-personal\\u002fPepsodent\",\"congelados\\u002fSuper Pollo\",\"lacteos\\u002fSureña\",\"lacteos\\u002fNestlé\",\"belleza-y-cuidado-personal\\u002fFamily Care\",\"congelados\\u002fFiesta\",\"belleza-y-cuidado-personal\\u002fFructis\",\"lacteos\\u002fSurlat\",\"lacteos\\u002fSvelty\",\"frutas\\u002fFrutas Y Verduras Propias\",\"verduras\\u002fFrutas Y Verduras Propias\",\"lacteos\\u002fOikos\",\"verduras\\u002fJumbo\",\"belleza-y-cuidado-personal\\u002fTena\",\"congelados\\u002fTivoni\",\"frutas\\u002fFrutas Y Verduras Santa Isabel\",\"lacteos\\u002fNext\",\"lacteos\\u002fNido\",\"belleza-y-cuidado-personal\\u002fNivea\",\"instantaneos-y-sopas\\u002fTraverso\",\"belleza-y-cuidado-personal\\u002fTrianon\",\"congelados\\u002fTurkey Hill\",\"congelados\\u002fFrutos Del Maipo\",\"belleza-y-cuidado-personal\\u002fNivea For Men\",\"belleza-y-cuidado-personal\\u002fPlenitud\",\"belleza-y-cuidado-personal\\u002fGarnier\",\"belleza-y-cuidado-personal\\u002fNosotras\",\"belleza-y-cuidado-personal\\u002fGillette\",\"belleza-y-cuidado-personal\\u002fGiselle\",\"congelados\\u002fNot Burger\",\"belleza-y-cuidado-personal\\u002fTío Nacho\",\"belleza-y-cuidado-personal\\u002fVanart\",\"congelados\\u002fNot Chicken\",\"belleza-y-cuidado-personal\",\"comidas-preparadas\",\"congelados\",\"frutas\",\"instantaneos-y-sopas\",\"lacteos\",\"verduras\"],\"labels\":[\"Protex\",\"Qualy\",\"Viennetta Bresler\",\"Old Spice\",\"King\",\"1+1 Soprole\",\"Activia\",\"Quillayes\",\"Agrosano\",\"Alcafood\",\"Alimentos Shen\",\"Rana\",\"Always\",\"Aquafresh\",\"Receta Del Abuelo\",\"Kotex\",\"Gourmet\",\"Kumey\",\"Astra\",\"Regimel\",\"Rexona\",\"Axe\",\"Omega 3\",\"La Crianza\",\"Rexona Clinical\",\"Rexona Men\",\"Rexona Men Clinical\",\"Babyland\",\"Rikü\",\"Rock\",\"Sadia\",\"Guallarauco\",\"Ballerina\",\"Base Culinar\",\"Sadia\",\"Head & Shoulders\",\"Oral Fresh\",\"La Crianza\",\"Sahne Nuss\",\"Sahne Nuss\",\"San Francisco De Loncomilla\",\"Bellekiss\",\"Yogu - Yogu\",\"BiO\",\"Bonella\",\"Bravissimo\",\"Bredenmaster\",\"Bresler\",\"Brooks\",\"Calan\",\"Lady Speed Stick\",\"Calo\",\"Not Ice Cream\",\"Zerolacto\",\"Not Milk\",\"Ladysoft\",\"Carefree\",\"Carozzi\",\"Carte Dor\",\"Oral-B\",\"Le Sancy\",\"Chamyto\",\"Chiquitín\",\"Cintazul\",\"PF\",\"San Ignacio\",\"Colgate\",\"Zole\",\"Lefersa\",\"Collico\",\"San Jorge\",\"Light & Free\",\"Herbal\",\"Colun\",\"Copacabana\",\"Corbac\",\"Santa Isabel\",\"Santa Isabel\",\"Cotidian\",\"Cotosan\",\"Santa Isabel\",\"Santa Marta\",\"PF\",\"Linic\",\"Savory\",\"Listerine\",\"Loncoleche\",\"Los Alerces\",\"Schick\",\"Pamperita\",\"Crucina\",\"Pantene\",\"Sedal\",\"Sensodyne\",\"Shake A Shake Lonco Leche\",\"Signore Mario\",\"Cuisine & Co\",\"Cuisine & Co\",\"Cuisine & Co\",\"Maggi\",\"Magnum\",\"Marco Polo\",\"Simond'S\",\"Simonds\",\"Cuisine & Co\",\"Sofruco\",\"Danone\",\"Deline\",\"Mega\",\"Herbal Essences\",\"Solo Italia\",\"Dento\",\"Dole\",\"Dove\",\"Dove Men\",\"Soprole\",\"Soprole Activ\",\"Hoffmann\",\"Minuto Verde\",\"Speed Stick\",\"Duralón\",\"Elite\",\"Elvive\",\"Familand\",\"Mister Veggie\",\"Máxima MP\",\"Ideal\",\"Máxima MP\",\"Naturella\",\"Super Beef\",\"Naturezza\",\"Super Cerdo\",\"Nesquik\",\"Ilicit\",\"Pepsodent\",\"Super Pollo\",\"Sureña\",\"Nestlé\",\"Family Care\",\"Fiesta\",\"Fructis\",\"Surlat\",\"Svelty\",\"Frutas Y Verduras Propias\",\"Frutas Y Verduras Propias\",\"Oikos\",\"Jumbo\",\"Tena\",\"Tivoni\",\"Frutas Y Verduras Santa Isabel\",\"Next\",\"Nido\",\"Nivea\",\"Traverso\",\"Trianon\",\"Turkey Hill\",\"Frutos Del Maipo\",\"Nivea For Men\",\"Plenitud\",\"Garnier\",\"Nosotras\",\"Gillette\",\"Giselle\",\"Not Burger\",\"Tío Nacho\",\"Vanart\",\"Not Chicken\",\"belleza-y-cuidado-personal\",\"comidas-preparadas\",\"congelados\",\"frutas\",\"instantaneos-y-sopas\",\"lacteos\",\"verduras\"],\"marker\":{\"colors\":[\"#636efa\",\"#EF553B\",\"#00cc96\",\"#ab63fa\",\"#FFA15A\",\"#19d3f3\",\"#FF6692\",\"#B6E880\",\"#FF97FF\",\"#FECB52\",\"#636efa\",\"#EF553B\",\"#00cc96\",\"#ab63fa\",\"#FFA15A\",\"#19d3f3\",\"#FF6692\",\"#B6E880\",\"#FF97FF\",\"#FECB52\",\"#636efa\",\"#EF553B\",\"#00cc96\",\"#ab63fa\",\"#FFA15A\",\"#19d3f3\",\"#FF6692\",\"#B6E880\",\"#FF97FF\",\"#FECB52\",\"#636efa\",\"#EF553B\",\"#00cc96\",\"#ab63fa\",\"#636efa\",\"#FFA15A\",\"#19d3f3\",\"#ab63fa\",\"#FF6692\",\"#FF6692\",\"#B6E880\",\"#FF97FF\",\"#FECB52\",\"#636efa\",\"#EF553B\",\"#00cc96\",\"#ab63fa\",\"#FFA15A\",\"#19d3f3\",\"#FF6692\",\"#B6E880\",\"#FF97FF\",\"#FECB52\",\"#636efa\",\"#EF553B\",\"#00cc96\",\"#ab63fa\",\"#FFA15A\",\"#19d3f3\",\"#FF6692\",\"#B6E880\",\"#FF97FF\",\"#FECB52\",\"#636efa\",\"#EF553B\",\"#00cc96\",\"#ab63fa\",\"#FFA15A\",\"#19d3f3\",\"#FF6692\",\"#B6E880\",\"#FF97FF\",\"#FECB52\",\"#636efa\",\"#EF553B\",\"#00cc96\",\"#ab63fa\",\"#ab63fa\",\"#FFA15A\",\"#19d3f3\",\"#ab63fa\",\"#FF6692\",\"#EF553B\",\"#B6E880\",\"#FF97FF\",\"#FECB52\",\"#636efa\",\"#EF553B\",\"#00cc96\",\"#ab63fa\",\"#FFA15A\",\"#19d3f3\",\"#FF6692\",\"#B6E880\",\"#FF97FF\",\"#FECB52\",\"#636efa\",\"#636efa\",\"#636efa\",\"#EF553B\",\"#00cc96\",\"#ab63fa\",\"#FFA15A\",\"#19d3f3\",\"#636efa\",\"#FF6692\",\"#B6E880\",\"#FF97FF\",\"#FECB52\",\"#636efa\",\"#EF553B\",\"#00cc96\",\"#ab63fa\",\"#FFA15A\",\"#19d3f3\",\"#FF6692\",\"#B6E880\",\"#FF97FF\",\"#FECB52\",\"#636efa\",\"#EF553B\",\"#00cc96\",\"#ab63fa\",\"#FFA15A\",\"#19d3f3\",\"#FF6692\",\"#B6E880\",\"#FF6692\",\"#FF97FF\",\"#FECB52\",\"#636efa\",\"#EF553B\",\"#00cc96\",\"#ab63fa\",\"#FFA15A\",\"#19d3f3\",\"#FF6692\",\"#B6E880\",\"#FF97FF\",\"#FECB52\",\"#636efa\",\"#EF553B\",\"#00cc96\",\"#ab63fa\",\"#ab63fa\",\"#FFA15A\",\"#19d3f3\",\"#FF6692\",\"#B6E880\",\"#FF97FF\",\"#FECB52\",\"#636efa\",\"#EF553B\",\"#00cc96\",\"#ab63fa\",\"#FFA15A\",\"#19d3f3\",\"#FF6692\",\"#B6E880\",\"#FF97FF\",\"#FECB52\",\"#636efa\",\"#EF553B\",\"#00cc96\",\"#ab63fa\",\"#FFA15A\",\"#19d3f3\",\"#FF6692\",\"#FF6692\",\"#FF6692\",\"#FF6692\",\"#FF6692\",\"#FF6692\",\"#FF6692\"]},\"name\":\"\",\"parents\":[\"belleza-y-cuidado-personal\",\"lacteos\",\"congelados\",\"belleza-y-cuidado-personal\",\"congelados\",\"lacteos\",\"lacteos\",\"lacteos\",\"verduras\",\"instantaneos-y-sopas\",\"congelados\",\"comidas-preparadas\",\"belleza-y-cuidado-personal\",\"belleza-y-cuidado-personal\",\"congelados\",\"belleza-y-cuidado-personal\",\"instantaneos-y-sopas\",\"lacteos\",\"lacteos\",\"lacteos\",\"belleza-y-cuidado-personal\",\"belleza-y-cuidado-personal\",\"lacteos\",\"comidas-preparadas\",\"belleza-y-cuidado-personal\",\"belleza-y-cuidado-personal\",\"belleza-y-cuidado-personal\",\"belleza-y-cuidado-personal\",\"congelados\",\"congelados\",\"comidas-preparadas\",\"congelados\",\"belleza-y-cuidado-personal\",\"lacteos\",\"congelados\",\"belleza-y-cuidado-personal\",\"belleza-y-cuidado-personal\",\"congelados\",\"congelados\",\"lacteos\",\"congelados\",\"belleza-y-cuidado-personal\",\"lacteos\",\"belleza-y-cuidado-personal\",\"lacteos\",\"congelados\",\"comidas-preparadas\",\"congelados\",\"belleza-y-cuidado-personal\",\"lacteos\",\"belleza-y-cuidado-personal\",\"lacteos\",\"congelados\",\"lacteos\",\"lacteos\",\"belleza-y-cuidado-personal\",\"belleza-y-cuidado-personal\",\"instantaneos-y-sopas\",\"congelados\",\"belleza-y-cuidado-personal\",\"belleza-y-cuidado-personal\",\"lacteos\",\"lacteos\",\"lacteos\",\"comidas-preparadas\",\"lacteos\",\"belleza-y-cuidado-personal\",\"congelados\",\"lacteos\",\"lacteos\",\"congelados\",\"lacteos\",\"belleza-y-cuidado-personal\",\"lacteos\",\"lacteos\",\"comidas-preparadas\",\"comidas-preparadas\",\"instantaneos-y-sopas\",\"belleza-y-cuidado-personal\",\"belleza-y-cuidado-personal\",\"lacteos\",\"lacteos\",\"congelados\",\"belleza-y-cuidado-personal\",\"congelados\",\"belleza-y-cuidado-personal\",\"lacteos\",\"lacteos\",\"belleza-y-cuidado-personal\",\"lacteos\",\"lacteos\",\"belleza-y-cuidado-personal\",\"belleza-y-cuidado-personal\",\"belleza-y-cuidado-personal\",\"lacteos\",\"lacteos\",\"comidas-preparadas\",\"congelados\",\"instantaneos-y-sopas\",\"instantaneos-y-sopas\",\"congelados\",\"lacteos\",\"belleza-y-cuidado-personal\",\"belleza-y-cuidado-personal\",\"lacteos\",\"frutas\",\"lacteos\",\"lacteos\",\"congelados\",\"belleza-y-cuidado-personal\",\"comidas-preparadas\",\"belleza-y-cuidado-personal\",\"verduras\",\"belleza-y-cuidado-personal\",\"belleza-y-cuidado-personal\",\"lacteos\",\"lacteos\",\"instantaneos-y-sopas\",\"congelados\",\"belleza-y-cuidado-personal\",\"belleza-y-cuidado-personal\",\"belleza-y-cuidado-personal\",\"belleza-y-cuidado-personal\",\"belleza-y-cuidado-personal\",\"congelados\",\"instantaneos-y-sopas\",\"lacteos\",\"lacteos\",\"belleza-y-cuidado-personal\",\"congelados\",\"instantaneos-y-sopas\",\"congelados\",\"lacteos\",\"belleza-y-cuidado-personal\",\"belleza-y-cuidado-personal\",\"congelados\",\"lacteos\",\"lacteos\",\"belleza-y-cuidado-personal\",\"congelados\",\"belleza-y-cuidado-personal\",\"lacteos\",\"lacteos\",\"frutas\",\"verduras\",\"lacteos\",\"verduras\",\"belleza-y-cuidado-personal\",\"congelados\",\"frutas\",\"lacteos\",\"lacteos\",\"belleza-y-cuidado-personal\",\"instantaneos-y-sopas\",\"belleza-y-cuidado-personal\",\"congelados\",\"congelados\",\"belleza-y-cuidado-personal\",\"belleza-y-cuidado-personal\",\"belleza-y-cuidado-personal\",\"belleza-y-cuidado-personal\",\"belleza-y-cuidado-personal\",\"belleza-y-cuidado-personal\",\"congelados\",\"belleza-y-cuidado-personal\",\"belleza-y-cuidado-personal\",\"congelados\",\"\",\"\",\"\",\"\",\"\",\"\",\"\"],\"values\":[304.5,0.0,546.0,0.0,0.0,0.0,0.0,0.0,0.0,0.0,0.0,0.0,123.75,444.6666666666667,0.0,55.166666666666664,0.0,0.0,0.0,0.0,660.0,590.0,0.0,0.0,795.0,660.0,795.0,0.0,0.0,0.0,0.0,0.0,34.083333333333336,0.0,0.0,0.0,797.0,0.0,164.25,0.0,0.0,0.0,0.0,650.0,0.0,0.0,0.0,429.7857142857143,0.0,0.0,0.0,0.0,0.0,0.0,160.0,94.83333333333333,0.0,0.0,357.5,88.55555555555556,0.0,0.0,0.0,0.0,200.0,0.0,117.0952380952381,0.0,0.0,0.0,70.0,0.0,0.0,4.471264367816092,0.0,0.0,0.0,0.0,0.0,0.0,0.0,149.5,0.0,0.0,456.15625,0.0,0.0,0.0,0.0,0.0,0.0,684.8571428571429,0.0,0.0,0.0,0.0,0.0,148.34285714285716,0.0,0.0,955.0,0.0,0.0,300.0,16.318181818181817,0.0,0.0,0.0,657.0,0.0,0.0,0.0,0.0,429.8666666666667,252.25,10.852941176470589,0.0,0.0,19.5,0.0,0.0,0.0,0.0,0.0,0.0,0.0,0.0,0.0,0.0,120.0,0.0,0.0,0.0,0.0,344.3333333333333,0.0,261.0,1.7674418604651163,0.0,0.0,0.0,0.0,0.0,0.0,0.0,0.0,0.0,0.0,0.0,0.0,0.0,869.8,0.0,0.0,0.0,0.0,136.26666666666668,0.0,0.0,0.0,103.45454545454545,0.0,0.0,210.0,0.0,0.0,0.0,8324.412481962481,200.0,4269.801488095238,0.0,0.0,1473.7098292229334,0.0],\"type\":\"treemap\"}],                        {\"template\":{\"data\":{\"histogram2dcontour\":[{\"type\":\"histogram2dcontour\",\"colorbar\":{\"outlinewidth\":0,\"ticks\":\"\"},\"colorscale\":[[0.0,\"#0d0887\"],[0.1111111111111111,\"#46039f\"],[0.2222222222222222,\"#7201a8\"],[0.3333333333333333,\"#9c179e\"],[0.4444444444444444,\"#bd3786\"],[0.5555555555555556,\"#d8576b\"],[0.6666666666666666,\"#ed7953\"],[0.7777777777777778,\"#fb9f3a\"],[0.8888888888888888,\"#fdca26\"],[1.0,\"#f0f921\"]]}],\"choropleth\":[{\"type\":\"choropleth\",\"colorbar\":{\"outlinewidth\":0,\"ticks\":\"\"}}],\"histogram2d\":[{\"type\":\"histogram2d\",\"colorbar\":{\"outlinewidth\":0,\"ticks\":\"\"},\"colorscale\":[[0.0,\"#0d0887\"],[0.1111111111111111,\"#46039f\"],[0.2222222222222222,\"#7201a8\"],[0.3333333333333333,\"#9c179e\"],[0.4444444444444444,\"#bd3786\"],[0.5555555555555556,\"#d8576b\"],[0.6666666666666666,\"#ed7953\"],[0.7777777777777778,\"#fb9f3a\"],[0.8888888888888888,\"#fdca26\"],[1.0,\"#f0f921\"]]}],\"heatmap\":[{\"type\":\"heatmap\",\"colorbar\":{\"outlinewidth\":0,\"ticks\":\"\"},\"colorscale\":[[0.0,\"#0d0887\"],[0.1111111111111111,\"#46039f\"],[0.2222222222222222,\"#7201a8\"],[0.3333333333333333,\"#9c179e\"],[0.4444444444444444,\"#bd3786\"],[0.5555555555555556,\"#d8576b\"],[0.6666666666666666,\"#ed7953\"],[0.7777777777777778,\"#fb9f3a\"],[0.8888888888888888,\"#fdca26\"],[1.0,\"#f0f921\"]]}],\"heatmapgl\":[{\"type\":\"heatmapgl\",\"colorbar\":{\"outlinewidth\":0,\"ticks\":\"\"},\"colorscale\":[[0.0,\"#0d0887\"],[0.1111111111111111,\"#46039f\"],[0.2222222222222222,\"#7201a8\"],[0.3333333333333333,\"#9c179e\"],[0.4444444444444444,\"#bd3786\"],[0.5555555555555556,\"#d8576b\"],[0.6666666666666666,\"#ed7953\"],[0.7777777777777778,\"#fb9f3a\"],[0.8888888888888888,\"#fdca26\"],[1.0,\"#f0f921\"]]}],\"contourcarpet\":[{\"type\":\"contourcarpet\",\"colorbar\":{\"outlinewidth\":0,\"ticks\":\"\"}}],\"contour\":[{\"type\":\"contour\",\"colorbar\":{\"outlinewidth\":0,\"ticks\":\"\"},\"colorscale\":[[0.0,\"#0d0887\"],[0.1111111111111111,\"#46039f\"],[0.2222222222222222,\"#7201a8\"],[0.3333333333333333,\"#9c179e\"],[0.4444444444444444,\"#bd3786\"],[0.5555555555555556,\"#d8576b\"],[0.6666666666666666,\"#ed7953\"],[0.7777777777777778,\"#fb9f3a\"],[0.8888888888888888,\"#fdca26\"],[1.0,\"#f0f921\"]]}],\"surface\":[{\"type\":\"surface\",\"colorbar\":{\"outlinewidth\":0,\"ticks\":\"\"},\"colorscale\":[[0.0,\"#0d0887\"],[0.1111111111111111,\"#46039f\"],[0.2222222222222222,\"#7201a8\"],[0.3333333333333333,\"#9c179e\"],[0.4444444444444444,\"#bd3786\"],[0.5555555555555556,\"#d8576b\"],[0.6666666666666666,\"#ed7953\"],[0.7777777777777778,\"#fb9f3a\"],[0.8888888888888888,\"#fdca26\"],[1.0,\"#f0f921\"]]}],\"mesh3d\":[{\"type\":\"mesh3d\",\"colorbar\":{\"outlinewidth\":0,\"ticks\":\"\"}}],\"scatter\":[{\"fillpattern\":{\"fillmode\":\"overlay\",\"size\":10,\"solidity\":0.2},\"type\":\"scatter\"}],\"parcoords\":[{\"type\":\"parcoords\",\"line\":{\"colorbar\":{\"outlinewidth\":0,\"ticks\":\"\"}}}],\"scatterpolargl\":[{\"type\":\"scatterpolargl\",\"marker\":{\"colorbar\":{\"outlinewidth\":0,\"ticks\":\"\"}}}],\"bar\":[{\"error_x\":{\"color\":\"#2a3f5f\"},\"error_y\":{\"color\":\"#2a3f5f\"},\"marker\":{\"line\":{\"color\":\"#E5ECF6\",\"width\":0.5},\"pattern\":{\"fillmode\":\"overlay\",\"size\":10,\"solidity\":0.2}},\"type\":\"bar\"}],\"scattergeo\":[{\"type\":\"scattergeo\",\"marker\":{\"colorbar\":{\"outlinewidth\":0,\"ticks\":\"\"}}}],\"scatterpolar\":[{\"type\":\"scatterpolar\",\"marker\":{\"colorbar\":{\"outlinewidth\":0,\"ticks\":\"\"}}}],\"histogram\":[{\"marker\":{\"pattern\":{\"fillmode\":\"overlay\",\"size\":10,\"solidity\":0.2}},\"type\":\"histogram\"}],\"scattergl\":[{\"type\":\"scattergl\",\"marker\":{\"colorbar\":{\"outlinewidth\":0,\"ticks\":\"\"}}}],\"scatter3d\":[{\"type\":\"scatter3d\",\"line\":{\"colorbar\":{\"outlinewidth\":0,\"ticks\":\"\"}},\"marker\":{\"colorbar\":{\"outlinewidth\":0,\"ticks\":\"\"}}}],\"scattermapbox\":[{\"type\":\"scattermapbox\",\"marker\":{\"colorbar\":{\"outlinewidth\":0,\"ticks\":\"\"}}}],\"scatterternary\":[{\"type\":\"scatterternary\",\"marker\":{\"colorbar\":{\"outlinewidth\":0,\"ticks\":\"\"}}}],\"scattercarpet\":[{\"type\":\"scattercarpet\",\"marker\":{\"colorbar\":{\"outlinewidth\":0,\"ticks\":\"\"}}}],\"carpet\":[{\"aaxis\":{\"endlinecolor\":\"#2a3f5f\",\"gridcolor\":\"white\",\"linecolor\":\"white\",\"minorgridcolor\":\"white\",\"startlinecolor\":\"#2a3f5f\"},\"baxis\":{\"endlinecolor\":\"#2a3f5f\",\"gridcolor\":\"white\",\"linecolor\":\"white\",\"minorgridcolor\":\"white\",\"startlinecolor\":\"#2a3f5f\"},\"type\":\"carpet\"}],\"table\":[{\"cells\":{\"fill\":{\"color\":\"#EBF0F8\"},\"line\":{\"color\":\"white\"}},\"header\":{\"fill\":{\"color\":\"#C8D4E3\"},\"line\":{\"color\":\"white\"}},\"type\":\"table\"}],\"barpolar\":[{\"marker\":{\"line\":{\"color\":\"#E5ECF6\",\"width\":0.5},\"pattern\":{\"fillmode\":\"overlay\",\"size\":10,\"solidity\":0.2}},\"type\":\"barpolar\"}],\"pie\":[{\"automargin\":true,\"type\":\"pie\"}]},\"layout\":{\"autotypenumbers\":\"strict\",\"colorway\":[\"#636efa\",\"#EF553B\",\"#00cc96\",\"#ab63fa\",\"#FFA15A\",\"#19d3f3\",\"#FF6692\",\"#B6E880\",\"#FF97FF\",\"#FECB52\"],\"font\":{\"color\":\"#2a3f5f\"},\"hovermode\":\"closest\",\"hoverlabel\":{\"align\":\"left\"},\"paper_bgcolor\":\"white\",\"plot_bgcolor\":\"#E5ECF6\",\"polar\":{\"bgcolor\":\"#E5ECF6\",\"angularaxis\":{\"gridcolor\":\"white\",\"linecolor\":\"white\",\"ticks\":\"\"},\"radialaxis\":{\"gridcolor\":\"white\",\"linecolor\":\"white\",\"ticks\":\"\"}},\"ternary\":{\"bgcolor\":\"#E5ECF6\",\"aaxis\":{\"gridcolor\":\"white\",\"linecolor\":\"white\",\"ticks\":\"\"},\"baxis\":{\"gridcolor\":\"white\",\"linecolor\":\"white\",\"ticks\":\"\"},\"caxis\":{\"gridcolor\":\"white\",\"linecolor\":\"white\",\"ticks\":\"\"}},\"coloraxis\":{\"colorbar\":{\"outlinewidth\":0,\"ticks\":\"\"}},\"colorscale\":{\"sequential\":[[0.0,\"#0d0887\"],[0.1111111111111111,\"#46039f\"],[0.2222222222222222,\"#7201a8\"],[0.3333333333333333,\"#9c179e\"],[0.4444444444444444,\"#bd3786\"],[0.5555555555555556,\"#d8576b\"],[0.6666666666666666,\"#ed7953\"],[0.7777777777777778,\"#fb9f3a\"],[0.8888888888888888,\"#fdca26\"],[1.0,\"#f0f921\"]],\"sequentialminus\":[[0.0,\"#0d0887\"],[0.1111111111111111,\"#46039f\"],[0.2222222222222222,\"#7201a8\"],[0.3333333333333333,\"#9c179e\"],[0.4444444444444444,\"#bd3786\"],[0.5555555555555556,\"#d8576b\"],[0.6666666666666666,\"#ed7953\"],[0.7777777777777778,\"#fb9f3a\"],[0.8888888888888888,\"#fdca26\"],[1.0,\"#f0f921\"]],\"diverging\":[[0,\"#8e0152\"],[0.1,\"#c51b7d\"],[0.2,\"#de77ae\"],[0.3,\"#f1b6da\"],[0.4,\"#fde0ef\"],[0.5,\"#f7f7f7\"],[0.6,\"#e6f5d0\"],[0.7,\"#b8e186\"],[0.8,\"#7fbc41\"],[0.9,\"#4d9221\"],[1,\"#276419\"]]},\"xaxis\":{\"gridcolor\":\"white\",\"linecolor\":\"white\",\"ticks\":\"\",\"title\":{\"standoff\":15},\"zerolinecolor\":\"white\",\"automargin\":true,\"zerolinewidth\":2},\"yaxis\":{\"gridcolor\":\"white\",\"linecolor\":\"white\",\"ticks\":\"\",\"title\":{\"standoff\":15},\"zerolinecolor\":\"white\",\"automargin\":true,\"zerolinewidth\":2},\"scene\":{\"xaxis\":{\"backgroundcolor\":\"#E5ECF6\",\"gridcolor\":\"white\",\"linecolor\":\"white\",\"showbackground\":true,\"ticks\":\"\",\"zerolinecolor\":\"white\",\"gridwidth\":2},\"yaxis\":{\"backgroundcolor\":\"#E5ECF6\",\"gridcolor\":\"white\",\"linecolor\":\"white\",\"showbackground\":true,\"ticks\":\"\",\"zerolinecolor\":\"white\",\"gridwidth\":2},\"zaxis\":{\"backgroundcolor\":\"#E5ECF6\",\"gridcolor\":\"white\",\"linecolor\":\"white\",\"showbackground\":true,\"ticks\":\"\",\"zerolinecolor\":\"white\",\"gridwidth\":2}},\"shapedefaults\":{\"line\":{\"color\":\"#2a3f5f\"}},\"annotationdefaults\":{\"arrowcolor\":\"#2a3f5f\",\"arrowhead\":0,\"arrowwidth\":1},\"geo\":{\"bgcolor\":\"white\",\"landcolor\":\"#E5ECF6\",\"subunitcolor\":\"white\",\"showland\":true,\"showlakes\":true,\"lakecolor\":\"white\"},\"title\":{\"x\":0.05},\"mapbox\":{\"style\":\"light\"}}},\"legend\":{\"tracegroupgap\":0},\"title\":{\"text\":\"Média de Desconto por Categoria e Marca\"}},                        {\"responsive\": true}                    ).then(function(){\n",
              "                            \n",
              "var gd = document.getElementById('09d29660-b3bf-440c-a0df-31048f78f797');\n",
              "var x = new MutationObserver(function (mutations, observer) {{\n",
              "        var display = window.getComputedStyle(gd).display;\n",
              "        if (!display || display === 'none') {{\n",
              "            console.log([gd, 'removed!']);\n",
              "            Plotly.purge(gd);\n",
              "            observer.disconnect();\n",
              "        }}\n",
              "}});\n",
              "\n",
              "// Listen for the removal of the full notebook cells\n",
              "var notebookContainer = gd.closest('#notebook-container');\n",
              "if (notebookContainer) {{\n",
              "    x.observe(notebookContainer, {childList: true});\n",
              "}}\n",
              "\n",
              "// Listen for the clearing of the current output cell\n",
              "var outputEl = gd.closest('.output');\n",
              "if (outputEl) {{\n",
              "    x.observe(outputEl, {childList: true});\n",
              "}}\n",
              "\n",
              "                        })                };                            </script>        </div>\n",
              "</body>\n",
              "</html>"
            ]
          },
          "metadata": {}
        }
      ]
    }
  ]
}